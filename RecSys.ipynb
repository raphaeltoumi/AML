{
 "cells": [
  {
   "cell_type": "code",
   "execution_count": 1,
   "metadata": {},
   "outputs": [
    {
     "name": "stdout",
     "output_type": "stream",
     "text": [
      "Requirement already satisfied: implicit in ./.local/lib/python3.5/site-packages (0.3.8)\n",
      "Requirement already satisfied: tqdm in ./.local/lib/python3.5/site-packages (from implicit) (4.31.1)\n",
      "Requirement already satisfied: scipy>=0.16 in /usr/local/lib/python3.5/dist-packages (from implicit) (1.1.0)\n",
      "Requirement already satisfied: numpy in /usr/local/lib/python3.5/dist-packages (from implicit) (1.14.5)\n",
      "\u001b[33mYou are using pip version 18.0, however version 19.0.3 is available.\n",
      "You should consider upgrading via the 'pip install --upgrade pip' command.\u001b[0m\n"
     ]
    }
   ],
   "source": [
    "# Install the library we need for the notebook\n",
    "!pip3 install --user 'implicit'"
   ]
  },
  {
   "cell_type": "markdown",
   "metadata": {
    "slideshow": {
     "slide_type": "slide"
    }
   },
   "source": [
    "# Building a music recommender system (Spring 2019)"
   ]
  },
  {
   "cell_type": "markdown",
   "metadata": {
    "slideshow": {
     "slide_type": "slide"
    }
   },
   "source": [
    "As its name implies, a recommender system is a tool that helps predicting what a user may or may not like among a list of given items. In some sense, you can view this as an alternative to content search, as recommendation engines help users discover products or content that they may not come across otherwise. For example, Facebook suggests friends and pages to users. Youtube recommends videos which users may be interested in. Amazon suggests the products which users may need... Recommendation engines engage users to services, can be seen as a revenue optimization process, and in general help maintaining interest in a service.\n",
    "\n",
    "In this notebook, we study how to build a simple recommender system: we focus on music recommendations, and we use a simple algorithm to predict which items users might like, that is called ALS, alternating least squares.\n",
    "\n",
    "## Goals\n",
    "\n",
    "In this lecture, we expect students to:\n",
    "\n",
    "- Revisit (or learn) recommender algorithms\n",
    "\n",
    "- Understand the idea of Matrix Factorization and the ALS algorithm\n",
    "\n",
    "- Build a simple model for a real usecase: music recommender system\n",
    "\n",
    "- Understand how to validate the results\n",
    "\n",
    "## Steps\n",
    "\n",
    "We assume students to work outside lab hours on the learning material. These are the steps by which we guide students, during labs, to build a good basis for the end-to-end development of a recommender system:\n",
    "\n",
    "* Inspect the data using Pandas, and build some basic, but very valuable knowledge about the information we have at hand\n",
    "* Formally define what is a sensible algorithm to achieve our goal: given the \"history\" of user taste for music, recommend new music to discover. Essentialy, we want to build a statistical model of user preferences such that we can use it to \"predict\" which additional music the user could like\n",
    "* With our formal definition at hand, we will learn different ways to implement such an algorithm. Our goal here is to illustrate what are the difficulties to overcome when implementing an algorithm like Matrix Factorization\n",
    "* Finally, we will focus on an existing implementation, available in ```Implicit```, which we will use out of the box to build a reliable statistical model\n",
    "\n",
    "Now, you may think at this point we will be done!\n",
    "\n",
    "Well, you'd better think twice: one important topic we will cover in all our Notebooks is **how to validate the results we obtain**, and **how to choose good parameters to train models** especially when using an \"opaque\" library for doing the job. As a consequence, we will focus on the statistical validation of our recommender system.\n"
   ]
  },
  {
   "cell_type": "markdown",
   "metadata": {
    "slideshow": {
     "slide_type": "slide"
    }
   },
   "source": [
    "# 1. Data\n",
    "\n",
    "Understanding data is one of the most important part when designing any machine learning algorithm. In this notebook, we will use a data set published by Audioscrobbler - a music recommendation system for last.fm. Audioscrobbler is also one of the first internet streaming radio sites, founded in 2002. It provided an open API for scrobbling, or recording listeners' plays of artists' songs. last.fm used this information to build a powerful music recommender engine.\n",
    "\n",
    "## 1.1. Data schema\n",
    "\n",
    "Unlike a rating dataset which contains information about users' preference for products (one star, 3 stars, and so on), the datasets from Audioscrobbler only has information about events: specifically, it keeps track of how many times a user played songs of a given artist and the names of artists. That means it carries less information than a rating: in the literature, this is called explicit vs. implicit ratings.\n",
    "\n",
    "### Reading material\n",
    "\n",
    "- [Implicit Feedback for Inferring User Preference: A Bibliography](http://people.csail.mit.edu/teevan/work/publications/papers/sigir-forum03.pdf)\n",
    "- [Comparing explicit and implicit feedback techniques for web retrieval: TREC-10 interactive track report](http://trec.nist.gov/pubs/trec10/papers/glasgow.pdf)\n",
    "- [Probabilistic Models for Data Combination in Recommender Systems](http://mlg.eng.cam.ac.uk/pub/pdf/WilGha08.pdf)\n",
    "\n",
    "The data we use in this Notebook is available in 3 files (these files are stored in our HDFS layer, in the directory  ```/datasets/lastfm```):\n",
    "\n",
    "- **`user_artist_data.txt`**: It contains about 140,000+ unique users, and 1.6 million unique artists. About 24.2 million users' plays of artists' are recorded, along with their count. It has 3 columns separated by spaces: \n",
    "\n",
    "| UserID | ArtistID | PlayCount |\n",
    "|----|----|----|\n",
    "| ...|...|...|\n",
    "\n",
    "\n",
    "- **`artist_data.txt`** : It prodives the names of each artist by their IDs. It has 2 columns separated by tab characters (`\\t`).\n",
    "\n",
    "| ArtistID | Name |\n",
    "|---|---|\n",
    "|...|...|\n",
    "\n",
    "- **`artist_alias.txt`**: Note that when plays are scrobbled, the client application submits the name of the artist being played. This name could be misspelled or nonstandard. For example, \"The Smiths\", \"Smiths, The\", and \"the smiths\" may appear as distinct artist IDs in the data set, even though they are plainly the same. `artist_alias.txt` maps artist IDs that are known misspellings or variants to the canonical ID of that artist. The data in this file has 2 columns separated by tab characters (`\\t`).\n",
    "\n",
    "| MisspelledArtistID | StandardArtistID |\n",
    "|---|---|\n",
    "|...|...|\n",
    "\n"
   ]
  },
  {
   "cell_type": "markdown",
   "metadata": {
    "slideshow": {
     "slide_type": "slide"
    }
   },
   "source": [
    "## 1.2. Understanding data: simple descriptive statistic\n",
    "\n",
    "In order to choose or design a suitable algorithm for achieving our goals, given the data we have, we should first understand data characteristics. To start, we import the necessary packages to work with regular expressions, Data Frames, and other nice features of our programming environment."
   ]
  },
  {
   "cell_type": "code",
   "execution_count": 2,
   "metadata": {
    "collapsed": false,
    "slideshow": {
     "slide_type": "subslide"
    }
   },
   "outputs": [],
   "source": [
    "%matplotlib inline\n",
    "import os\n",
    "import sys\n",
    "import re\n",
    "import random\n",
    "import matplotlib\n",
    "import implicit\n",
    "\n",
    "import matplotlib.pyplot as plt\n",
    "import pandas as pd\n",
    "import numpy as np\n",
    "\n",
    "from time import time\n",
    "\n",
    "os.environ[\"OPENBLAS_NUM_THREADS\"] = \"1\"   # Required by implicit\n",
    "\n",
    "base = \"/mnt/datasets/lastfm/\""
   ]
  },
  {
   "cell_type": "markdown",
   "metadata": {
    "slideshow": {
     "slide_type": "slide"
    }
   },
   "source": [
    "### Question 1\n",
    "\n",
    "#### Question 1.0 (Non-grading)\n",
    "\n",
    "Using Pandas, load data from `/datasets/lastfm/user_artist_data.txt` (407 MB) and show the first 20 entries (via function `show()`).\n",
    "\n",
    "```bash \n",
    "$ du -sh /mnt/datasets/lastfm/user_artist_data.txt\n",
    "407M     /mnt/datasets/lastfm/user_artist_data.txt\n",
    "```\n",
    "\n",
    "For this Notebook, from a programming point of view, we are given the schema for the data we use, which is as follows:\n",
    "\n",
    "```\n",
    "userID: long int\n",
    "artistID: long int\n",
    "playCount: int\n",
    "```\n",
    "\n",
    "Each line of the dataset contains the above three fields, separated by a \"white space\".\n"
   ]
  },
  {
   "cell_type": "code",
   "execution_count": 3,
   "metadata": {
    "slideshow": {
     "slide_type": "subslide"
    }
   },
   "outputs": [
    {
     "data": {
      "text/html": [
       "<div>\n",
       "<style scoped>\n",
       "    .dataframe tbody tr th:only-of-type {\n",
       "        vertical-align: middle;\n",
       "    }\n",
       "\n",
       "    .dataframe tbody tr th {\n",
       "        vertical-align: top;\n",
       "    }\n",
       "\n",
       "    .dataframe thead th {\n",
       "        text-align: right;\n",
       "    }\n",
       "</style>\n",
       "<table border=\"1\" class=\"dataframe\">\n",
       "  <thead>\n",
       "    <tr style=\"text-align: right;\">\n",
       "      <th></th>\n",
       "      <th>userID</th>\n",
       "      <th>artistID</th>\n",
       "      <th>playCount</th>\n",
       "    </tr>\n",
       "  </thead>\n",
       "  <tbody>\n",
       "    <tr>\n",
       "      <th>0</th>\n",
       "      <td>1000002</td>\n",
       "      <td>1</td>\n",
       "      <td>55</td>\n",
       "    </tr>\n",
       "    <tr>\n",
       "      <th>1</th>\n",
       "      <td>1000002</td>\n",
       "      <td>1000006</td>\n",
       "      <td>33</td>\n",
       "    </tr>\n",
       "    <tr>\n",
       "      <th>2</th>\n",
       "      <td>1000002</td>\n",
       "      <td>1000007</td>\n",
       "      <td>8</td>\n",
       "    </tr>\n",
       "    <tr>\n",
       "      <th>3</th>\n",
       "      <td>1000002</td>\n",
       "      <td>1000009</td>\n",
       "      <td>144</td>\n",
       "    </tr>\n",
       "    <tr>\n",
       "      <th>4</th>\n",
       "      <td>1000002</td>\n",
       "      <td>1000010</td>\n",
       "      <td>314</td>\n",
       "    </tr>\n",
       "  </tbody>\n",
       "</table>\n",
       "</div>"
      ],
      "text/plain": [
       "    userID  artistID  playCount\n",
       "0  1000002         1         55\n",
       "1  1000002   1000006         33\n",
       "2  1000002   1000007          8\n",
       "3  1000002   1000009        144\n",
       "4  1000002   1000010        314"
      ]
     },
     "execution_count": 3,
     "metadata": {},
     "output_type": "execute_result"
    }
   ],
   "source": [
    "# Read the .csv file (might take a while)\n",
    "userArtistDF = pd.read_csv(base + 'user_artist_data.txt', \n",
    "                           sep=' ', \n",
    "                           header=None, \n",
    "                           names=['userID', 'artistID', 'playCount'])\n",
    "\n",
    "# Cast each column to its correct datatype\n",
    "userArtistDF['userID'] = userArtistDF['userID'].astype(np.int64, errors='ignore')\n",
    "userArtistDF['artistID'] = userArtistDF['artistID'].astype(np.int64, errors='ignore')\n",
    "userArtistDF['playCount'] = userArtistDF['playCount'].astype(np.int32, errors='ignore')\n",
    "\n",
    "userArtistDF[:5]"
   ]
  },
  {
   "cell_type": "markdown",
   "metadata": {
    "slideshow": {
     "slide_type": "slide"
    }
   },
   "source": [
    "#### Question 1.1: \n",
    "<div class=\"alert alert-info\">\n",
    "How many distinct users do we have in our data? \n",
    "</div>"
   ]
  },
  {
   "cell_type": "code",
   "execution_count": 4,
   "metadata": {
    "slideshow": {
     "slide_type": "subslide"
    }
   },
   "outputs": [
    {
     "name": "stdout",
     "output_type": "stream",
     "text": [
      "Total n. of users:  148111\n"
     ]
    }
   ],
   "source": [
    "uniqueUsers = userArtistDF['userID'].nunique()\n",
    "print(\"Total n. of users: \", uniqueUsers)"
   ]
  },
  {
   "cell_type": "markdown",
   "metadata": {
    "slideshow": {
     "slide_type": "slide"
    }
   },
   "source": [
    "#### Question 1.2\n",
    "<div class=\"alert alert-info\">\n",
    "How many distinct artists do we have in our data ?\n",
    "</div>"
   ]
  },
  {
   "cell_type": "code",
   "execution_count": 5,
   "metadata": {
    "slideshow": {
     "slide_type": "subslide"
    }
   },
   "outputs": [
    {
     "name": "stdout",
     "output_type": "stream",
     "text": [
      "Total n. of artists:  1631028\n"
     ]
    }
   ],
   "source": [
    "uniqueArtists = userArtistDF['artistID'].nunique()\n",
    "print(\"Total n. of artists: \", uniqueArtists)"
   ]
  },
  {
   "cell_type": "markdown",
   "metadata": {
    "slideshow": {
     "slide_type": "-"
    }
   },
   "source": [
    "We just discovered that we have a total of 148,111 users in our dataset. Similarly, we have a total of 1,631,028 artists in our dataset. \n",
    "\n",
    "One thing we can see here is that Pandas provides very concise and powerful methods for data analytics."
   ]
  },
  {
   "cell_type": "markdown",
   "metadata": {
    "slideshow": {
     "slide_type": "-"
    }
   },
   "source": [
    "Next, we might want to understand better user activity and artist popularity.\n",
    "\n",
    "Here is a list of simple descriptive queries that helps us reaching these purposes:\n",
    "\n",
    "* How many times each user has played a song? This is a good indicator of who are the most active users of our service. Note that a very active user with many play counts does not necessarily mean that the user is also \"curious\"! Indeed, she could have played the same song several times.\n",
    "* How many play counts for each artist? This is a good indicator of the artist popularity. Since we do not have time information associated to our data, we can only build a, e.g., top-10 ranking of the most popular artists in the dataset. Later in the notebook, we will learn that our dataset has a very \"loose\" definition about artists: very often artist IDs point to song titles as well. This means we have to be careful when establishing popular artists. Indeed, artists whose data is \"well formed\" will have the correct number of play counts associated to them. Instead, artists that appear mixed with song titles may see their play counts \"diluted\" across their songs."
   ]
  },
  {
   "cell_type": "markdown",
   "metadata": {
    "slideshow": {
     "slide_type": "slide"
    }
   },
   "source": [
    "### Question 2\n",
    "\n",
    "#### Question 2.1\n",
    "<div class=\"alert alert-info\">\n",
    "How many times each user has played a song? Show 5 samples of the result.\n",
    "</div>"
   ]
  },
  {
   "cell_type": "code",
   "execution_count": 6,
   "metadata": {
    "slideshow": {
     "slide_type": "subslide"
    }
   },
   "outputs": [
    {
     "name": "stdout",
     "output_type": "stream",
     "text": [
      "        playCount\n",
      "userID           \n",
      "90            537\n",
      "98            186\n",
      "116            20\n",
      "120            65\n",
      "128           133\n"
     ]
    }
   ],
   "source": [
    "# Compute user activity\n",
    "# We are interested in how many playcounts each user has scored.\n",
    "userActivity = userArtistDF.groupby('userID').sum(axis=2).drop(columns=['artistID'])\n",
    "print(userActivity[0:5])\n"
   ]
  },
  {
   "cell_type": "markdown",
   "metadata": {
    "slideshow": {
     "slide_type": "slide"
    }
   },
   "source": [
    "#### Question 2.2\n",
    "<div class=\"alert alert-info\">\n",
    "Plot CDF (or ECDF) of the number of play counts per User ID.  \n",
    "\n",
    "Explain and comment the figure you just created:   \n",
    "<ul>\n",
    "<li>for example, look at important percentiles (10%, 25%, median, 75%, tails such as >90%) and cross check with what you have found above to figure out if the result is plausible. </li>\n",
    "<li>discuss about your users, with respect to the application domain we target in the notebook: you will notice that for some users, there is very little interaction with the system, which means that maybe reccommending something to them is going to be more difficult than for other users who interact more with the system. </li>\n",
    "<li>look at outliers and reason about their impact on your reccommender algorithm</li>\n",
    "</ul>\n",
    "</div>"
   ]
  },
  {
   "cell_type": "code",
   "execution_count": 7,
   "metadata": {
    "slideshow": {
     "slide_type": "subslide"
    }
   },
   "outputs": [
    {
     "data": {
      "image/png": "[encoded data removed]",
      "text/plain": [
       "<Figure size 432x288 with 1 Axes>"
      ]
     },
     "metadata": {},
     "output_type": "display_data"
    }
   ],
   "source": [
    "fig, ax = plt.subplots()\n",
    "\n",
    "# Plot the cumulative distribution\n",
    "userActivity['playCount'].value_counts().cumsum().plot(kind='line',ax=ax)\n",
    "\n",
    "# Calculate and plot the 5 important percentiles\n",
    "for i, quantile in enumerate([.1, 0.25, .5, .75, .9]):\n",
    "    ax.axvline(userActivity['playCount'].quantile(quantile), label='%.0fth perc.' % (quantile*100))  \n",
    "ax.semilogx()\n",
    "ax.set_title('ECDF of number of play counts per User ID')\n",
    "ax.set_xlabel('Play Counts')\n",
    "ax.set_ylabel('ECDF')\n",
    "ax.legend()\n",
    "plt.show()"
   ]
  },
  {
   "cell_type": "markdown",
   "metadata": {},
   "source": [
    "<div class=\"alert alert-warning\">PUT YOUR COMMENT HERE </div>"
   ]
  },
  {
   "cell_type": "markdown",
   "metadata": {
    "slideshow": {
     "slide_type": "slide"
    }
   },
   "source": [
    "#### Question 2.3\n",
    "\n",
    "<div class=\"alert alert-info\">\n",
    "How many play counts for each artist? Plot CDF or ECDF of the result.  \n",
    "\n",
    "Similarly to the previous question, you need to comment and interpret your result: what is the figure telling you?\n",
    "</div>"
   ]
  },
  {
   "cell_type": "code",
   "execution_count": 8,
   "metadata": {
    "slideshow": {
     "slide_type": "subslide"
    }
   },
   "outputs": [
    {
     "data": {
      "image/png": "[encoded data removed]",
      "text/plain": [
       "<Figure size 432x288 with 1 Axes>"
      ]
     },
     "metadata": {},
     "output_type": "display_data"
    }
   ],
   "source": [
    "# Compute artist popularity\n",
    "# We are interested in how many playcounts per artist\n",
    "# ATTENTION! Grouping by artistID may be problematic, as stated above.\n",
    "artistPopularity = userArtistDF.drop(columns=['userID']).groupby('artistID').sum()\n",
    "fig, ax = plt.subplots()\n",
    "\n",
    "# Plot the cumulative distribution\n",
    "artistPopularity['playCount'].value_counts().cumsum().plot(kind='line',ax=ax)\n",
    "\n",
    "# Calculate and plot the 5 important percentiles\n",
    "for i, quantile in enumerate([.1, 0.25, .5, .75, .9]):\n",
    "    ax.axvline(artistPopularity['playCount'].quantile(quantile), label='%.0fth perc.' % (quantile*100))\n",
    "\n",
    "ax.semilogx()\n",
    "ax.set_title('ECDF of number of play counts per Artist ID')\n",
    "ax.set_xlabel('Play Counts')\n",
    "ax.set_ylabel('ECDF')\n",
    "ax.legend()\n",
    "plt.show()\n"
   ]
  },
  {
   "cell_type": "markdown",
   "metadata": {},
   "source": [
    "<div class=\"alert alert-warning\">PUT YOUR COMMENT HERE </div>"
   ]
  },
  {
   "cell_type": "markdown",
   "metadata": {
    "slideshow": {
     "slide_type": "slide"
    }
   },
   "source": [
    "#### Question 2.4\n",
    "<div class=\"alert alert-info\">\n",
    "Plot a bar chart to show top 10 artists In terms of absolute play counts.  \n",
    "\n",
    "Comment the figure you just obtained: \n",
    "<ul>\n",
    "<li>are these reasonable results?</li>\n",
    "<li>is looking at top-10 artists enough to learn more about your data?</li>\n",
    "<li>do you see anything strange in the data?</li>\n",
    "</ul>\n",
    "</div>"
   ]
  },
  {
   "cell_type": "code",
   "execution_count": 9,
   "metadata": {
    "slideshow": {
     "slide_type": "subslide"
    }
   },
   "outputs": [
    {
     "data": {
      "image/png": "[encoded data removed]",
      "text/plain": [
       "<Figure size 432x288 with 1 Axes>"
      ]
     },
     "metadata": {},
     "output_type": "display_data"
    }
   ],
   "source": [
    "topN = 10\n",
    "topNArtist = artistPopularity.sort_values('playCount', ascending=False)[:topN]\n",
    "\n",
    "fig, ax = plt.subplots()\n",
    "\n",
    "topNArtist.plot(kind='barh',\n",
    "                ax=ax)\n",
    "\n",
    "ax.set_xlabel('Play Count')\n",
    "ax.set_ylabel('Artist')\n",
    "ax.set_title('Top-10 Artist ID per play counts')\n",
    "\n",
    "plt.show()"
   ]
  },
  {
   "cell_type": "markdown",
   "metadata": {},
   "source": [
    "All seems clear right now, but ... wait a second! What about the problems indicated above about artist \"disambiguation\"? Are these artist ID we are using referring to unique artists? How can we make sure that such \"opaque\" identifiers point to different bands? Let's try to use some additional dataset to answer this question:  `artist_data.txt` dataset. This time, the schema of the dataset consists in:\n",
    "\n",
    "```\n",
    "artist ID: long int\n",
    "name: string\n",
    "```\n",
    "\n",
    "We will try to find whether a single artist has two different IDs."
   ]
  },
  {
   "cell_type": "markdown",
   "metadata": {
    "slideshow": {
     "slide_type": "slide"
    }
   },
   "source": [
    "### Question 3\n",
    "\n",
    "#### Question 3.1\n",
    "\n",
    "<div class=\"alert alert-info\">\n",
    "Load the data ('\\t'-separated) from `/datasets/lastfm/artist_data.txt` and use the Pandas API to show 5 samples.  \n",
    "</div>\n",
    "\n",
    "**HINT**: `artist_data.txt` has malformed entries. If you encounter some error when parsing lines in data because of invalid entries, functions `pandas.DataFrame.dropna()` and `pandas.to_numeric()` will help you to eliminate these entries.\n"
   ]
  },
  {
   "cell_type": "code",
   "execution_count": 10,
   "metadata": {
    "slideshow": {
     "slide_type": "subslide"
    }
   },
   "outputs": [
    {
     "name": "stderr",
     "output_type": "stream",
     "text": [
      "/usr/local/lib/python3.5/dist-packages/IPython/core/interactiveshell.py:2785: DtypeWarning: Columns (0,1) have mixed types. Specify dtype option on import or set low_memory=False.\n",
      "  interactivity=interactivity, compiler=compiler, result=result)\n"
     ]
    },
    {
     "data": {
      "text/html": [
       "<div>\n",
       "<style scoped>\n",
       "    .dataframe tbody tr th:only-of-type {\n",
       "        vertical-align: middle;\n",
       "    }\n",
       "\n",
       "    .dataframe tbody tr th {\n",
       "        vertical-align: top;\n",
       "    }\n",
       "\n",
       "    .dataframe thead th {\n",
       "        text-align: right;\n",
       "    }\n",
       "</style>\n",
       "<table border=\"1\" class=\"dataframe\">\n",
       "  <thead>\n",
       "    <tr style=\"text-align: right;\">\n",
       "      <th></th>\n",
       "      <th>artistID</th>\n",
       "      <th>name</th>\n",
       "    </tr>\n",
       "  </thead>\n",
       "  <tbody>\n",
       "    <tr>\n",
       "      <th>0</th>\n",
       "      <td>1134999.0</td>\n",
       "      <td>06Crazy Life</td>\n",
       "    </tr>\n",
       "    <tr>\n",
       "      <th>1</th>\n",
       "      <td>6821360.0</td>\n",
       "      <td>Pang Nakarin</td>\n",
       "    </tr>\n",
       "    <tr>\n",
       "      <th>2</th>\n",
       "      <td>10113088.0</td>\n",
       "      <td>Terfel, Bartoli- Mozart: Don</td>\n",
       "    </tr>\n",
       "    <tr>\n",
       "      <th>3</th>\n",
       "      <td>10151459.0</td>\n",
       "      <td>The Flaming Sidebur</td>\n",
       "    </tr>\n",
       "    <tr>\n",
       "      <th>4</th>\n",
       "      <td>6826647.0</td>\n",
       "      <td>Bodenstandig 3000</td>\n",
       "    </tr>\n",
       "  </tbody>\n",
       "</table>\n",
       "</div>"
      ],
      "text/plain": [
       "     artistID                          name\n",
       "0   1134999.0                  06Crazy Life\n",
       "1   6821360.0                  Pang Nakarin\n",
       "2  10113088.0  Terfel, Bartoli- Mozart: Don\n",
       "3  10151459.0           The Flaming Sidebur\n",
       "4   6826647.0             Bodenstandig 3000"
      ]
     },
     "execution_count": 10,
     "metadata": {},
     "output_type": "execute_result"
    }
   ],
   "source": [
    "# Read from the .csv file\n",
    "artistDF = pd.read_csv(base + 'artist_data.txt', sep='\\t', header=None,\n",
    "                        names=['artistID', 'name'])\n",
    "\n",
    "# Cast each column to its datatype\n",
    "artistDF['artistID'] = artistDF['artistID'].astype(np.int64, errors='ignore')\n",
    "artistDF['name'] = artistDF['name'].astype(np.str, errors='ignore')\n",
    "\n",
    "# Filter out possible malformed entries\n",
    "artistDF['artistID'] = pd.to_numeric(artistDF['artistID'], errors='coerce')\n",
    "artistDF = artistDF.dropna()\n",
    "\n",
    "\n",
    "artistDF[:5]"
   ]
  },
  {
   "cell_type": "markdown",
   "metadata": {
    "slideshow": {
     "slide_type": "slide"
    }
   },
   "source": [
    "#### Question 3.2\n",
    "<div class=\"alert alert-info\">\n",
    "Find 20 artists whose name contains `Aerosmith`. Take a look at artists that have ID equal to `1000010` and `2082323`. In your opinion, are they pointing to the same artist?  \n",
    "</div>\n",
    "\n",
    "**HINT**: Function `contains(string)` can be useful in this case."
   ]
  },
  {
   "cell_type": "code",
   "execution_count": 11,
   "metadata": {
    "slideshow": {
     "slide_type": "subslide"
    }
   },
   "outputs": [
    {
     "data": {
      "text/html": [
       "<div>\n",
       "<style scoped>\n",
       "    .dataframe tbody tr th:only-of-type {\n",
       "        vertical-align: middle;\n",
       "    }\n",
       "\n",
       "    .dataframe tbody tr th {\n",
       "        vertical-align: top;\n",
       "    }\n",
       "\n",
       "    .dataframe thead th {\n",
       "        text-align: right;\n",
       "    }\n",
       "</style>\n",
       "<table border=\"1\" class=\"dataframe\">\n",
       "  <thead>\n",
       "    <tr style=\"text-align: right;\">\n",
       "      <th></th>\n",
       "      <th>artistID</th>\n",
       "      <th>name</th>\n",
       "    </tr>\n",
       "  </thead>\n",
       "  <tbody>\n",
       "    <tr>\n",
       "      <th>1457634</th>\n",
       "      <td>2082323.0</td>\n",
       "      <td>01 Aerosmith</td>\n",
       "    </tr>\n",
       "  </tbody>\n",
       "</table>\n",
       "</div>"
      ],
      "text/plain": [
       "          artistID          name\n",
       "1457634  2082323.0  01 Aerosmith"
      ]
     },
     "execution_count": 11,
     "metadata": {},
     "output_type": "execute_result"
    }
   ],
   "source": [
    "# 1 seul ? ne fonctionne pas\n",
    "# get artists whose name contains \"Aerosmith\"\n",
    "artistDF[artistDF['name'].str.contains('Aerosmith')][:20]\n",
    "\n",
    "# show two examples\n",
    "artistDF[artistDF['artistID'] == 1000010]\n",
    "artistDF[artistDF['artistID'] == 2082323]\n"
   ]
  },
  {
   "cell_type": "markdown",
   "metadata": {},
   "source": [
    "To answer this question correctly, we need to use an additional dataset `artist_alias.txt` which contains the ids of mispelled artists and standard artists. The schema of the dataset consists in:\n",
    "\n",
    "```\n",
    "mispelledID ID: long int\n",
    "standard ID: long int\n",
    "```"
   ]
  },
  {
   "cell_type": "markdown",
   "metadata": {
    "slideshow": {
     "slide_type": "slide"
    }
   },
   "source": [
    "#### Question 3.3\n",
    "<div class=\"alert alert-info\">\n",
    "Using Pandas, load the dataset from `/datasets/lastfm/artist_alias.txt` then show 5 samples.\n",
    "</div>"
   ]
  },
  {
   "cell_type": "code",
   "execution_count": 12,
   "metadata": {
    "slideshow": {
     "slide_type": "subslide"
    }
   },
   "outputs": [
    {
     "data": {
      "text/html": [
       "<div>\n",
       "<style scoped>\n",
       "    .dataframe tbody tr th:only-of-type {\n",
       "        vertical-align: middle;\n",
       "    }\n",
       "\n",
       "    .dataframe tbody tr th {\n",
       "        vertical-align: top;\n",
       "    }\n",
       "\n",
       "    .dataframe thead th {\n",
       "        text-align: right;\n",
       "    }\n",
       "</style>\n",
       "<table border=\"1\" class=\"dataframe\">\n",
       "  <thead>\n",
       "    <tr style=\"text-align: right;\">\n",
       "      <th></th>\n",
       "      <th>misspelledArtistID</th>\n",
       "      <th>standardArtistID</th>\n",
       "    </tr>\n",
       "  </thead>\n",
       "  <tbody>\n",
       "    <tr>\n",
       "      <th>0</th>\n",
       "      <td>1092764.0</td>\n",
       "      <td>1000311</td>\n",
       "    </tr>\n",
       "    <tr>\n",
       "      <th>1</th>\n",
       "      <td>1095122.0</td>\n",
       "      <td>1000557</td>\n",
       "    </tr>\n",
       "    <tr>\n",
       "      <th>2</th>\n",
       "      <td>6708070.0</td>\n",
       "      <td>1007267</td>\n",
       "    </tr>\n",
       "    <tr>\n",
       "      <th>3</th>\n",
       "      <td>10088054.0</td>\n",
       "      <td>1042317</td>\n",
       "    </tr>\n",
       "    <tr>\n",
       "      <th>4</th>\n",
       "      <td>1195917.0</td>\n",
       "      <td>1042317</td>\n",
       "    </tr>\n",
       "  </tbody>\n",
       "</table>\n",
       "</div>"
      ],
      "text/plain": [
       "   misspelledArtistID  standardArtistID\n",
       "0           1092764.0           1000311\n",
       "1           1095122.0           1000557\n",
       "2           6708070.0           1007267\n",
       "3          10088054.0           1042317\n",
       "4           1195917.0           1042317"
      ]
     },
     "execution_count": 12,
     "metadata": {},
     "output_type": "execute_result"
    }
   ],
   "source": [
    "artistAliasDF = pd.read_csv(base+'artist_alias.txt', sep='\\t', header=None,\n",
    "                            names=['misspelledArtistID', 'standardArtistID'])\n",
    "artistAliasDF['misspelledArtistID']=artistAliasDF['misspelledArtistID'].astype(np.int64,errors='ignore')\n",
    "artistAliasDF['standardArtistID']=artistAliasDF['standardArtistID'].astype(np.int64,errors='ignore')\n",
    "\n",
    "artistAliasDF[:5]"
   ]
  },
  {
   "cell_type": "markdown",
   "metadata": {
    "slideshow": {
     "slide_type": "slide"
    }
   },
   "source": [
    "#### Question 3.4\n",
    "<div class=\"alert alert-info\">\n",
    "Verify the answer of question 3.2 (\"Are artists that have ID equal to `1000010` and `2082323` the same ?\") by finding the standard ids corresponding to the mispelled ids `1000010` and `2082323` respectively.\n",
    "</div>"
   ]
  },
  {
   "cell_type": "code",
   "execution_count": 13,
   "metadata": {
    "slideshow": {
     "slide_type": "subslide"
    }
   },
   "outputs": [
    {
     "data": {
      "text/html": [
       "<div>\n",
       "<style scoped>\n",
       "    .dataframe tbody tr th:only-of-type {\n",
       "        vertical-align: middle;\n",
       "    }\n",
       "\n",
       "    .dataframe tbody tr th {\n",
       "        vertical-align: top;\n",
       "    }\n",
       "\n",
       "    .dataframe thead th {\n",
       "        text-align: right;\n",
       "    }\n",
       "</style>\n",
       "<table border=\"1\" class=\"dataframe\">\n",
       "  <thead>\n",
       "    <tr style=\"text-align: right;\">\n",
       "      <th></th>\n",
       "      <th>misspelledArtistID</th>\n",
       "      <th>standardArtistID</th>\n",
       "    </tr>\n",
       "  </thead>\n",
       "  <tbody>\n",
       "    <tr>\n",
       "      <th>1135</th>\n",
       "      <td>2082323.0</td>\n",
       "      <td>1000010</td>\n",
       "    </tr>\n",
       "  </tbody>\n",
       "</table>\n",
       "</div>"
      ],
      "text/plain": [
       "      misspelledArtistID  standardArtistID\n",
       "1135           2082323.0           1000010"
      ]
     },
     "execution_count": 13,
     "metadata": {},
     "output_type": "execute_result"
    }
   ],
   "source": [
    "artistAliasDF[artistAliasDF['standardArtistID']==1000010]\n",
    "artistAliasDF[artistAliasDF['misspelledArtistID']==2082323]\n"
   ]
  },
  {
   "cell_type": "markdown",
   "metadata": {
    "slideshow": {
     "slide_type": "slide"
    }
   },
   "source": [
    "### Question 4\n",
    "\n",
    "The mispelled or nonstandard information about artist make our results in the previous queries a bit \"sloppy\". To overcome this problem, we can replace all mispelled artist ids by the corresponding standard ids and re-compute the basic descriptive statistics on the \"amended\" data.\n",
    "\n",
    "#### Question 4.2\n",
    "<div class=\"alert alert-info\">\n",
    "Replace the non-standard artist ids in the dataframe that was loaded from `/datasets/lastfm/user_artist_data.txt` by the corresponding standard ids then show 5 samples.\n",
    "</div>\n",
    "\n",
    "\n",
    "**NOTE 1**: If an id doesn't exist in the dictionary as a mispelled id, it is really a standard id.\n",
    "\n",
    "**NOTE 2**: be careful! you need to be able to verify that you indeed solved the problem of having bad artist IDs. In principle, for the new data to be correct, we should to have duplicate pairs (user, artist), potentially with different play counts, right? In answering the question, please **show** that you indeed fixed the problem and find a way to fix the duplicates (user, artist).\n",
    "\n",
    "**HINT**: have a look to the functions `pandas.merge()` and `pandas.Dataframe.combine_first()`."
   ]
  },
  {
   "cell_type": "code",
   "execution_count": 14,
   "metadata": {
    "slideshow": {
     "slide_type": "subslide"
    }
   },
   "outputs": [
    {
     "name": "stdout",
     "output_type": "stream",
     "text": [
      "Cleaning the dataset took 29.38 seconds\n",
      "   userID  realArtistID  playCount\n",
      "0      90            24          1\n",
      "1      90            46          4\n",
      "2      90           121          1\n",
      "3      90           151          1\n",
      "4      90           227         16\n"
     ]
    }
   ],
   "source": [
    "t0 = time()\n",
    "\n",
    "# Join the two dataframes based on the misspelledArtistID\n",
    "newUserArtistDF = pd.merge(userArtistDF, artistAliasDF, left_on='artistID', right_on='misspelledArtistID', how='left')\n",
    "\n",
    "# Get the final realArtistID\n",
    "newUserArtistDF['realArtistID'] = newUserArtistDF['standardArtistID'].combine_first(newUserArtistDF['artistID']).astype(np.int64)\n",
    "# Delete columns not required\n",
    "newUserArtistDF.drop(['artistID', 'standardArtistID', 'misspelledArtistID'], axis=1, inplace=True)\n",
    "\n",
    "# Fix duplicates of the pair (userID, realArtistID)\n",
    "newUserArtistDF = newUserArtistDF.groupby(['userID','realArtistID'], as_index=False).sum()\n",
    "print('Cleaning the dataset took %.2f seconds' % (time() - t0))\n",
    "\n",
    "print(newUserArtistDF[:5])"
   ]
  },
  {
   "cell_type": "code",
   "execution_count": 15,
   "metadata": {},
   "outputs": [],
   "source": [
    "assert (newUserArtistDF.groupby(['userID', 'realArtistID'], as_index=False).count()['playCount'] == 1).all(),  \\\n",
    "    'Each combination user/artist should appear only once'"
   ]
  },
  {
   "cell_type": "markdown",
   "metadata": {
    "slideshow": {
     "slide_type": "slide"
    }
   },
   "source": [
    "### Question 5\n",
    "\n",
    "Well, our data frame contains clean and \"standard\" data. We can use it to redo previous statistic queries. Now that we have all data, including the relation (`artistID`/`name`), please find a way to use the artist name instead of its ID in all required plots.\n",
    "\n",
    "#### Question 5.1\n",
    "<div class=\"alert alert-info\">\n",
    "How many unique artists? Compare with the result when using old data.\n",
    "</div>"
   ]
  },
  {
   "cell_type": "code",
   "execution_count": 16,
   "metadata": {
    "slideshow": {
     "slide_type": "subslide"
    }
   },
   "outputs": [
    {
     "name": "stdout",
     "output_type": "stream",
     "text": [
      "Total n. of artists:  1568126\n"
     ]
    }
   ],
   "source": [
    "uniqueArtists = newUserArtistDF['realArtistID'].nunique()\n",
    "\n",
    "print(\"Total n. of artists: \", uniqueArtists)\n"
   ]
  },
  {
   "cell_type": "markdown",
   "metadata": {
    "slideshow": {
     "slide_type": "slide"
    }
   },
   "source": [
    "#### Question 5.2\n",
    "\n",
    "<div class=\"alert alert-info\">\n",
    "Who are the top-10 artistis?\n",
    "<ul>\n",
    "  <li>In terms of absolute play counts</li>\n",
    "  <li>In terms of \"audience size\", that is, how many users listened to one of their track at least once</li>\n",
    "</ul>  \n",
    "\n",
    "Plot the results, and explain the figures you obtain.\n",
    "<div>"
   ]
  },
  {
   "cell_type": "code",
   "execution_count": 17,
   "metadata": {
    "slideshow": {
     "slide_type": "subslide"
    }
   },
   "outputs": [
    {
     "data": {
      "image/png": "[encoded data removed]",
      "text/plain": [
       "<Figure size 432x288 with 1 Axes>"
      ]
     },
     "metadata": {},
     "output_type": "display_data"
    }
   ],
   "source": [
    "# calculate top-10 artists in term of play counts\n",
    "topN = 10\n",
    "\n",
    "artistPopularity = newUserArtistDF.drop(columns=['userID']).groupby('realArtistID').sum()\n",
    "\n",
    "# Get the name of the artists based on their IDs\n",
    "artistPopularity = pd.merge(left=artistPopularity, right=artistDF, right_on='artistID', left_on='realArtistID', how='left')\n",
    "topNArtist = artistPopularity.sort_values('playCount', ascending=False)[:topN]\n",
    "\n",
    "fig, ax = plt.subplots()\n",
    "\n",
    "topNArtist['playCount'].plot(kind='barh', ax=ax)\n",
    "\n",
    "ax.set_yticklabels(topNArtist['name'])\n",
    "ax.set_xlabel('Play Count')\n",
    "ax.set_title('Top-10 Artist per play counts')\n",
    "\n",
    "plt.show()"
   ]
  },
  {
   "cell_type": "code",
   "execution_count": 18,
   "metadata": {
    "slideshow": {
     "slide_type": "-"
    }
   },
   "outputs": [
    {
     "data": {
      "image/png": "[encoded data removed]",
      "text/plain": [
       "<Figure size 432x288 with 1 Axes>"
      ]
     },
     "metadata": {},
     "output_type": "display_data"
    }
   ],
   "source": [
    "# calculate top-10 artists in term of audience size\n",
    "\n",
    "topN = 10\n",
    "artistAudience = newUserArtistDF['realArtistID'].value_counts().reset_index(name='audience')\n",
    "artistAudience = pd.merge(artistAudience, right=artistDF, right_on='artistID', left_on='index', how='left')\n",
    "topNArtist = artistAudience.sort_values('audience', ascending=False)[:topN]\n",
    "\n",
    "fig, ax = plt.subplots()\n",
    "\n",
    "topNArtist['audience'].plot(kind='barh', ax=ax)\n",
    "len(artistAudience)\n",
    "ax.set_yticklabels(topNArtist['name'])\n",
    "ax.set_xlabel('audience')\n",
    "ax.set_title('Top-10 Artist per audience')\n",
    "\n",
    "plt.show()\n"
   ]
  },
  {
   "cell_type": "markdown",
   "metadata": {
    "slideshow": {
     "slide_type": "slide"
    }
   },
   "source": [
    "#### Question 5.3\n",
    "\n",
    "<div class=\"alert alert-info\">\n",
    "Who are the top-10 users?\n",
    "<ul>\n",
    "  <li>In terms of absolute play counts</li>\n",
    "  <li>In terms of \"curiosity\", that is, how many different artists they listened to</li>\n",
    "\n",
    "</ul>  \n",
    "\n",
    "Plot the results\n",
    "</div>"
   ]
  },
  {
   "cell_type": "code",
   "execution_count": 19,
   "metadata": {
    "slideshow": {
     "slide_type": "subslide"
    }
   },
   "outputs": [
    {
     "data": {
      "image/png": "[encoded data removed]",
      "text/plain": [
       "<Figure size 432x288 with 1 Axes>"
      ]
     },
     "metadata": {},
     "output_type": "display_data"
    }
   ],
   "source": [
    "# calculate top-10 user in term of play counts\n",
    "topN = 10\n",
    "\n",
    "userPlayCount = newUserArtistDF.drop(columns=['realArtistID']).reset_index().groupby('userID').sum()\n",
    "topNUser = userPlayCount.sort_values('playCount',ascending=False)[:topN]\n",
    "\n",
    "fig, ax = plt.subplots()\n",
    "\n",
    "topNUser['playCount'].plot(kind='barh', ax=ax)\n",
    "\n",
    "ax.set_yticklabels(topNUser.reset_index()['userID'])\n",
    "ax.set_xlabel('Play Count')\n",
    "ax.set_title('Top-10 User per play count')\n",
    "\n",
    "plt.show()\n"
   ]
  },
  {
   "cell_type": "code",
   "execution_count": 20,
   "metadata": {},
   "outputs": [
    {
     "data": {
      "image/png": "[encoded data removed]",
      "text/plain": [
       "<Figure size 432x288 with 1 Axes>"
      ]
     },
     "metadata": {},
     "output_type": "display_data"
    }
   ],
   "source": [
    "# calculate top-10 user in term of curiosity\n",
    "topN = 10\n",
    "\n",
    "userCuriosity = newUserArtistDF['userID'].value_counts().reset_index(name='repertoire')\n",
    "\n",
    "topNUser = userCuriosity.sort_values('repertoire',ascending=False)[:topN]\n",
    "\n",
    "fig, ax = plt.subplots()\n",
    "\n",
    "topNUser['repertoire'].plot(kind='barh', ax=ax)\n",
    "\n",
    "ax.set_yticklabels(topNUser['index'])\n",
    "ax.set_xlabel('number of artist in library')\n",
    "ax.set_title('Top-10 User per curiosity')\n",
    "\n",
    "plt.show()\n"
   ]
  },
  {
   "cell_type": "markdown",
   "metadata": {},
   "source": [
    "Now we have some valuable information about the data. It's the time to study how to build a statistical models."
   ]
  },
  {
   "cell_type": "markdown",
   "metadata": {
    "slideshow": {
     "slide_type": "slide"
    }
   },
   "source": [
    "# 2. Build a statistical models to make recommendations\n",
    "\n",
    "## 2.1 Introduction to recommender systems\n",
    "\n",
    "In a recommendation-system application there are two classes of entities, which we shall refer to as `users` and `items`. Users have preferences for certain items, and these preferences must be inferred from the data. The data itself is represented as a `preference matrix` $A$, giving for each user-item pair, a value that represents what is known about the degree of preference of that user for that item. The table below is an example for a `preference matrix` of 5 users and `k` items. The `preference matrix` is also known as `utility matrix`.\n",
    "\n",
    "| .  | IT1 | IT2 | IT3 | ... | ITk |\n",
    "|----|---|---|---|---|---|\n",
    "| U1 | 1 | na | 5 | ... | 3 |\n",
    "| U2 | na | 2 | na | ... | 2 |\n",
    "| U3 | 5 | na | 3 | ... | na |\n",
    "| U4 | 3 | 3 | na | ... | 4 |\n",
    "| U5 | na | 1 | na | ... | ... |\n",
    "\n",
    "The value of row i, column j expresses how much does user `i` like item `j`. The values are often the rating scores of users for items. An unknown value implies that we have no explicit information about the user's preference for the item. The goal of a recommendation system is to predict \"the blanks\" in the `preference matrix`. For example, assume that the rating score is from 1 (dislike) to 5 (love), would user `U5` like `IT3` ? We have two approaches:\n",
    "\n",
    "* Designing our recommendation system to take into account properties of items such as brand, category, price... or even the similarity of their names. We can denote the similarity of items `IT2` and `IT3`, and then conclude that because user `U5` did not like `IT2`, they were unlikely to enjoy SW2 either.\n",
    "\n",
    "* We might observe that the people who rated both `IT2` and `IT3` tended to give them similar ratings. Thus, we could conclude that user `U5` would also give `IT3` a low rating, similar to `U5`'s rating of `IT2`\n",
    "\n",
    "It is not necessary to predict every blank entry in a `utility matrix`. Rather, it is only necessary to discover some entries in each row that are likely to be high. In most applications, the recommendation system does not oﬀer users a ranking of all items, but rather suggests a few that the user should value highly. It may not even be necessary to ﬁnd all items with the highest expected ratings, but only to ﬁnd a large subset of those with the highest ratings.\n",
    "\n",
    "\n",
    "## 2.2 Families of recommender systems\n",
    "\n",
    "In general, recommender systems can be categorized into two groups:\n",
    "\n",
    "* **Content-Based** systems focus on properties of items. Similarity of items is determined by measuring the similarity in their properties.\n",
    "\n",
    "* **Collaborative-Filtering** systems focus on the relationship between users and items. Similarity of items is determined by the similarity of the ratings of those items by the users who have rated both items.\n",
    "\n",
    "In the usecase of this notebook, artists take the role of `items`, and `users` keep the same role as `users`.\n",
    "Since we have no information about `artists`, except their names, we cannot build a `content-based` recommender system.\n",
    "\n",
    "Therefore, in the rest of this notebook, we only focus on `Collaborative-Filtering` algorithms.\n",
    "\n",
    "## 2.3 Collaborative-Filtering \n",
    "In this section, we study a member of a broad class of algorithms called `latent-factor` models. They try to explain observed interactions between large numbers of users and products through a relatively small number of unobserved, underlying reasons. It is analogous to explaining why millions of people buy a particular few of thousands of possible albums by describing users and albums in terms of tastes for perhaps tens of genres, tastes which are **not directly observable or given** as data. \n",
    "\n",
    "First, we formulate the learning problem as a matrix completion problem. Then, we will use a type of `matrix factorization` model to \"fill in\" the blanks.  We are given implicit ratings that users have given certain items (that is, the number of times they played a particular artist) and our goal is to predict their ratings for the rest of the items. Formally, if there are $n$ users and $m$ items, we are given an $n \\times m$ matrix $R$ in which the generic entry $(u, i)$ represents the rating for item $i$ by user $u$. **Matrix $R$ has many missing entries indicating unobserved ratings, and our task is to estimate these unobserved ratings**.\n",
    "\n",
    "A popular approach to the matrix completion problem is **matrix factorization**, where we want to \"summarize\" users and items with their **latent factors**.\n",
    "\n",
    "### 2.3.1 Basic idea and an example of Matrix Factorization\n",
    "For example, given a preference matrix 5x5 as below, we want to approximate this matrix into the product of two smaller matrixes $X$ and $Y$ .\n",
    "\n",
    "$$\n",
    "M = \n",
    "\\begin{bmatrix}\n",
    " 5 & 2 & 4 & 4 & 3 \\\\\n",
    " 3 & 1 & 2 & 4 & 1 \\\\\n",
    " 2 &  & 3 & 1 & 4 \\\\\n",
    " 2 & 5 & 4 & 3 & 5 \\\\\n",
    " 4 & 4 & 5 & 4 &  \\\\\n",
    "\\end{bmatrix}\n",
    "\\approx M^\\prime =\n",
    "\\begin{bmatrix}\n",
    " x_{11} & x_{12} \\\\\n",
    " x_{21} & x_{22} \\\\\n",
    " x_{31} & x_{32} \\\\\n",
    " x_{41} & x_{42} \\\\\n",
    " x_{51} & x_{52} \\\\\n",
    "\\end{bmatrix}\n",
    "\\times\n",
    "\\begin{bmatrix}\n",
    " y_{11} & y_{12} & y_{13} & y_{14} & y_{15} \\\\\n",
    " y_{21} & y_{22} & y_{23} & y_{24} & y_{25} \\\\\n",
    "\\end{bmatrix}\n",
    "$$\n",
    "\n",
    "$M^\\prime$ is an approximation that is as close to A as possible. To calculate how far from $M$ $M^\\prime$ is, we often calculate the sum of squared distances of non-empty elements in $M$ and the corresponding elements in $M^\\prime$.\n",
    "In this way, for $M^\\prime$, besides the approximated elements in $M$, we also have the non-observed elements. Therefore, to see how much does user `i` like item `j`, we simply pick up the value of $M^\\prime_{i,j}$.\n",
    "\n",
    "The challenge is how to calculate $X$ and $Y$. The bad news is that this can't be solved directly for both the best $X$ and best $Y$ at the same time. Fortunately, if $Y$ is known, we can calculate the best of $X$, and vice versa. It means from the initial values of $X$ and $Y$ in the beginning, we calculate the best $X$ according to $Y$, and then calculate the best $Y$ according to the new $X$. This process is repeated until the distance from $XY$ to $M$ is small. It's simple, right ?\n",
    "\n",
    "Let's take an example. To compute the approximation for the above 5x5 matrix $M$, first, we initialize the value of $X$ and $Y$ as below.\n",
    "\n",
    "$$\n",
    "M^\\prime = X \\times Y =\n",
    "\\begin{bmatrix}\n",
    " 1 & 1 \\\\\n",
    " 1 & 1 \\\\\n",
    " 1 & 1 \\\\\n",
    " 1 & 1 \\\\\n",
    " 1 & 1 \\\\\n",
    "\\end{bmatrix}\n",
    "\\times\n",
    "\\begin{bmatrix}\n",
    " 1 & 1 & 1 & 1 & 1 \\\\\n",
    " 1 & 1 & 1 & 1 & 1 \\\\\n",
    "\\end{bmatrix}\n",
    "=\n",
    "\\begin{bmatrix}\n",
    " 2 & 2 & 2 & 2 & 2 \\\\\n",
    " 2 & 2 & 2 & 2 & 2 \\\\\n",
    " 2 & 2 & 2 & 2 & 2 \\\\\n",
    " 2 & 2 & 2 & 2 & 2 \\\\\n",
    " 2 & 2 & 2 & 2 & 2 \\\\\n",
    "\\end{bmatrix}\n",
    "$$\n",
    "\n",
    "With the initial iteration, we calculate the the Root-Mean-Square Error from $XY$ to $M$.\n",
    "\n",
    "Consider the ﬁrst rows of $M$ and $XY$ . We subtract the first row of $XY$ from the entries in the ﬁrst row of $M$, to get $3,0,2,2,1$. We square and sum these to get $18$. \n",
    "\n",
    "In the second row, we do the same to get $1,−1,0,2,−1$, square and sum to get $7$. \n",
    "\n",
    "In the third row, the second column is blank, so that entry is ignored when computing the RMSE. The diﬀerences are $0,1,−1,2$ and the sum of squares is $6$. \n",
    "\n",
    "For the fourth row, the diﬀerences are $0,3,2,1,3$ and the sum of squares is $23$. \n",
    "\n",
    "The ﬁfth row has a blank entry in the last column, so the diﬀerences are $2,2,3,2$ and the sum of squares is $21$. \n",
    "\n",
    "When we sum the sums from each of the ﬁve rows, we get $18+7+6+23+21 = 75$. So, $RMSE=\\sqrt{75/23}=1.806$ where $23$ is the number of non-empty values in $M$.\n",
    "\n",
    "Next, with the given value of $Y$, we calculate $X$ by finding the best value for $X_{11}$.\n",
    "\n",
    "$$\n",
    "M^\\prime = X \\times Y =\n",
    "\\begin{bmatrix}\n",
    " x & 1 \\\\\n",
    " 1 & 1 \\\\\n",
    " 1 & 1 \\\\\n",
    " 1 & 1 \\\\\n",
    " 1 & 1 \\\\\n",
    "\\end{bmatrix}\n",
    "\\times\n",
    "\\begin{bmatrix}\n",
    " 1 & 1 & 1 & 1 & 1 \\\\\n",
    " 1 & 1 & 1 & 1 & 1 \\\\\n",
    "\\end{bmatrix}\n",
    "=\n",
    "\\begin{bmatrix}\n",
    " x+1 & x+1 & x+1 & x+1 & x+1 \\\\\n",
    " 2 & 2 & 2 & 2 & 2 \\\\\n",
    " 2 & 2 & 2 & 2 & 2 \\\\\n",
    " 2 & 2 & 2 & 2 & 2 \\\\\n",
    " 2 & 2 & 2 & 2 & 2 \\\\\n",
    "\\end{bmatrix}\n",
    "$$\n",
    "\n",
    "Now, to minimize the $RMSE$  we minimize the difference of the first rows $(5−(x+1))^2 + (2−(x+1))^2 + (4−(x+1))^2 + (4−(x+1))^2 + (3−(x+1))^2$. By  taking the derivative and set that equal to 0, we pick $x=2.6$\n",
    "\n",
    "Given the new value of $X$, we can calculate the best value for $Y$.\n",
    "\n",
    "$$\n",
    "M^\\prime = X \\times Y =\n",
    "\\begin{bmatrix}\n",
    " 2.6 & 1 \\\\\n",
    " 1 & 1 \\\\\n",
    " 1 & 1 \\\\\n",
    " 1 & 1 \\\\\n",
    " 1 & 1 \\\\\n",
    "\\end{bmatrix}\n",
    "\\times\n",
    "\\begin{bmatrix}\n",
    " y & 1 & 1 & 1 & 1 \\\\\n",
    " 1 & 1 & 1 & 1 & 1 \\\\\n",
    "\\end{bmatrix}\n",
    "=\n",
    "\\begin{bmatrix}\n",
    " 3.6 & 3.6 & 3.6 & 3.6 & 3.6 \\\\\n",
    " 2 & 2 & 2 & 2 & 2 \\\\\n",
    " 2 & 2 & 2 & 2 & 2 \\\\\n",
    " 2 & 2 & 2 & 2 & 2 \\\\\n",
    " 2 & 2 & 2 & 2 & 2 \\\\\n",
    "\\end{bmatrix}\n",
    "$$\n",
    "\n",
    "By doing the same process as before, we can pick value for $y=1.617$. After that, we can check if the $RMSE$ is not converged, we continue to update $X$ by $Y$ and vice versa. In this example, for simple, we only update one element of each matrix in each iteration. In practice, we can update a full row or full matrix at once.\n"
   ]
  },
  {
   "cell_type": "markdown",
   "metadata": {},
   "source": [
    "### 2.3.2 Matrix Factorization: Objective and ALS Algorithm\n",
    "\n",
    "More formally, in general, we select $k$ latent features, and describe each user $u$ with a $k-$dimensional vector $x_u$, and each item $i$ with a $k-$dimensional vector $y_i$.\n",
    "\n",
    "Then, to predict user $u$'s rating for item $i$, we do as follows: $ r_{ui} \\approx x_{u}^{T}y_i$.\n",
    "\n",
    "This can be put, more elegantly, in a matrix form. Let $x_1, \\cdots x_n \\in \\mathbb{R}^k$ be the factors for the users, and $y_1, \\cdots y_m \\in \\mathbb{R}^k$ the factors for the items. The $k \\times n$ user matrix $X$ and the $k \\times m$ item matrix $Y$ are then defined by:\n",
    "\n",
    "$$\n",
    "X = \n",
    "\\begin{bmatrix}\n",
    " |   &         & |  \\\\\n",
    "x_1  &  \\cdots & x_n\\\\\n",
    " |   &         & |  \\\\\n",
    "\\end{bmatrix}\n",
    "$$\n",
    "\n",
    "$$\n",
    "Y = \n",
    "\\begin{bmatrix}\n",
    " |   &         & |  \\\\\n",
    "y_1  &  \\cdots & y_i\\\\\n",
    " |   &         & |  \\\\\n",
    "\\end{bmatrix}\n",
    "$$\n",
    "\n",
    "Our goal is to estimate the complete ratings matrix $R \\approx X^{T} Y$. We can formulate this problem as an optimization problem in which we aim to minimize an objective function and find optimal $X$ and $Y$ . In particular, we aim to minimize the least squares error of the observed ratings (and regularize):\n",
    "\n",
    "$$\n",
    "\\min_{X,Y} \\sum_{r_{ui} \\text{observed}}(r_{ui} - x_{u}^{T}y_i)^2 + \\lambda \\left( \\sum_{u} \\|x_u\\|^2 + \\sum_{i} \\|y_i\\|^2 \\right) \n",
    "$$\n",
    "\n",
    "Notice that this objective is non-convex (because of the $x_{u}^{T} y_i$ term); in fact it’s NP-hard to optimize. Gradient descent can be used as an approximate approach here, however it turns out to be slow and costs lots of iterations. Note however, that if we fix the set of variables $X$ and treat them as constants, then the objective is a convex function of $Y$ and vice versa. Our approach will therefore be to fix $Y$ and optimize $X$, then fix $X$ and optimize $Y$, and repeat until convergence. This approach is known as **ALS (Alternating Least Squares)**. For our objective function, the alternating least squares algorithm can be expressed with this simple pseudo-code:"
   ]
  },
  {
   "cell_type": "markdown",
   "metadata": {},
   "source": [
    "\n",
    "**Initialize** $X$, $Y$\n",
    "\n",
    "**while(convergence is not true) do**\n",
    "\n",
    "\n",
    "**for** $u = 1 \\cdots n$ **do**\n",
    "\n",
    "$x_u = \\left( \\sum_{r_ui \\in r_{u*}} y_i y_{i}^{T} + \\lambda I_k \\right)^{-1} \\sum_{r_ui \\in r_{u*}} r_{ui} y_i $ \n",
    "   \n",
    "**end for**\n",
    "\n",
    "**for** $u = 1 \\cdots n$ **do**\n",
    "\n",
    "$y_i = \\left( \\sum_{r_ui \\in r_{*i}} x_u x_{u}^{T} + \\lambda I_k \\right)^{-1} \\sum_{r_ui \\in r_{*i}} r_{ui} x_u $ \n",
    "   \n",
    "**end for**\n",
    "\n",
    "\n",
    "**end while**\n"
   ]
  },
  {
   "cell_type": "markdown",
   "metadata": {},
   "source": [
    "For a single machine, we can analyze the computational cost of this algorithm. Updating each $x_u$ will cost $O(n_u k^2 + k^3)$, where $n_u$ is the number of items rated by user $u$, and similarly updating each $y_i$ will cost $O(n_i k^2 + k^3)$, where $n_i$ is the number of users that have rated item $i$.\n",
    "\n",
    "\n",
    "Once we’ve computed the matrices $X$ and $Y$, there are several ways compute a prediction. The first is to do what was discussed before, which is to simply predict $ r_{ui} \\approx x_{u}^{T}y_i$ for each user $u$ and item $i$. \n",
    "This approach will cost $O(nmk)$ if we’d like to estimate every user-item pair. \n",
    "\n",
    "However, this approach is prohibitively expensive for most real-world datasets. A second (and more holistic) approach is to use the $x_u$ and $y_i$ as features in another learning algorithm, incorporating these features with others that are relevant to the prediction task."
   ]
  },
  {
   "cell_type": "markdown",
   "metadata": {},
   "source": [
    "### Further readings\n",
    "Other methods for matrix factorization include:\n",
    "\n",
    "* Low Rank Approximation and Regression in Input Sparsity Time, by Kenneth L. Clarkson, David P. Woodruff. http://arxiv.org/abs/1207.6365\n",
    "* Generalized Low Rank Models (GLRM), by Madeleine Udell, Corinne Horn, Reza Zadeh, Stephen Boyd. http://arxiv.org/abs/1410.0342\n",
    "* Matrix Completion and Low-Rank SVD via Fast Alternating Least Squares, by Trevor Hastie, Rahul Mazumder, Jason D. Lee, Reza Zadeh . Statistics Department and ICME, Stanford University, 2014. http://stanford.edu/~rezab/papers/fastals.pdf"
   ]
  },
  {
   "cell_type": "markdown",
   "metadata": {},
   "source": [
    "# 3. Usecase : Music recommender system\n",
    "\n",
    "In this usecase, we use the data of users and artists in the previous sections to build a statistical model to recommend artists for users.\n",
    " \n",
    "## 3.1 Requirements\n",
    "According to the properties of data, we need to choose a recommender algorithm that is suitable for this implicit feedback data. It means that the algorithm should learn without access to user or artist attributes such as age, genre,.... Therefore, an algorithm of type `collaborative filtering` is the best choice.\n",
    "\n",
    "Second, in the data, there are some users that have listened to only 1 artist. We need an algorithm that might provide decent recommendations to even these users. After all, at some point, every user starts out with just one play at some point! \n",
    "\n",
    "Third, we need an algorithm that scales, both in its ability to build large models, and to create recommendations quickly.\n",
    "\n",
    "From these requirement, we can choose using ALS algorithm in [Implicit](https://implicit.readthedocs.io/en/latest/)."
   ]
  },
  {
   "cell_type": "markdown",
   "metadata": {
    "slideshow": {
     "slide_type": "slide"
    }
   },
   "source": [
    "### Question 6\n",
    "\n",
    "The library choosen for implementing ALS has a strict requirement in terms of data format. In particular `userID` and `artistID` should be both incremetally assigned starting from 0 (e.g. the first valid `artistID` is 90 and it has to correspond to 0). In these next questions we will try to fix this issue.\n",
    "\n",
    "#### Question 6.1\n",
    "\n",
    "<div class=\"alert alert-info\">\n",
    "Create a table with incremental ID for artists and print the first 15 entries.\n",
    "</div>"
   ]
  },
  {
   "cell_type": "code",
   "execution_count": 21,
   "metadata": {
    "slideshow": {
     "slide_type": "subslide"
    }
   },
   "outputs": [
    {
     "data": {
      "text/html": [
       "<div>\n",
       "<style scoped>\n",
       "    .dataframe tbody tr th:only-of-type {\n",
       "        vertical-align: middle;\n",
       "    }\n",
       "\n",
       "    .dataframe tbody tr th {\n",
       "        vertical-align: top;\n",
       "    }\n",
       "\n",
       "    .dataframe thead th {\n",
       "        text-align: right;\n",
       "    }\n",
       "</style>\n",
       "<table border=\"1\" class=\"dataframe\">\n",
       "  <thead>\n",
       "    <tr style=\"text-align: right;\">\n",
       "      <th></th>\n",
       "      <th>originalArtistID</th>\n",
       "      <th>incrementalArtistID</th>\n",
       "    </tr>\n",
       "  </thead>\n",
       "  <tbody>\n",
       "    <tr>\n",
       "      <th>0</th>\n",
       "      <td>24</td>\n",
       "      <td>0</td>\n",
       "    </tr>\n",
       "    <tr>\n",
       "      <th>1</th>\n",
       "      <td>46</td>\n",
       "      <td>1</td>\n",
       "    </tr>\n",
       "    <tr>\n",
       "      <th>2</th>\n",
       "      <td>121</td>\n",
       "      <td>2</td>\n",
       "    </tr>\n",
       "    <tr>\n",
       "      <th>3</th>\n",
       "      <td>151</td>\n",
       "      <td>3</td>\n",
       "    </tr>\n",
       "    <tr>\n",
       "      <th>4</th>\n",
       "      <td>227</td>\n",
       "      <td>4</td>\n",
       "    </tr>\n",
       "    <tr>\n",
       "      <th>5</th>\n",
       "      <td>342</td>\n",
       "      <td>5</td>\n",
       "    </tr>\n",
       "    <tr>\n",
       "      <th>6</th>\n",
       "      <td>566</td>\n",
       "      <td>6</td>\n",
       "    </tr>\n",
       "    <tr>\n",
       "      <th>7</th>\n",
       "      <td>619</td>\n",
       "      <td>7</td>\n",
       "    </tr>\n",
       "    <tr>\n",
       "      <th>8</th>\n",
       "      <td>737</td>\n",
       "      <td>8</td>\n",
       "    </tr>\n",
       "    <tr>\n",
       "      <th>9</th>\n",
       "      <td>787</td>\n",
       "      <td>9</td>\n",
       "    </tr>\n",
       "    <tr>\n",
       "      <th>10</th>\n",
       "      <td>798</td>\n",
       "      <td>10</td>\n",
       "    </tr>\n",
       "    <tr>\n",
       "      <th>11</th>\n",
       "      <td>938</td>\n",
       "      <td>11</td>\n",
       "    </tr>\n",
       "    <tr>\n",
       "      <th>12</th>\n",
       "      <td>1208</td>\n",
       "      <td>12</td>\n",
       "    </tr>\n",
       "    <tr>\n",
       "      <th>13</th>\n",
       "      <td>1404</td>\n",
       "      <td>13</td>\n",
       "    </tr>\n",
       "    <tr>\n",
       "      <th>14</th>\n",
       "      <td>1435</td>\n",
       "      <td>14</td>\n",
       "    </tr>\n",
       "  </tbody>\n",
       "</table>\n",
       "</div>"
      ],
      "text/plain": [
       "    originalArtistID  incrementalArtistID\n",
       "0                 24                    0\n",
       "1                 46                    1\n",
       "2                121                    2\n",
       "3                151                    3\n",
       "4                227                    4\n",
       "5                342                    5\n",
       "6                566                    6\n",
       "7                619                    7\n",
       "8                737                    8\n",
       "9                787                    9\n",
       "10               798                   10\n",
       "11               938                   11\n",
       "12              1208                   12\n",
       "13              1404                   13\n",
       "14              1435                   14"
      ]
     },
     "execution_count": 21,
     "metadata": {},
     "output_type": "execute_result"
    }
   ],
   "source": [
    "artistMappingDF = pd.DataFrame()\n",
    "artistMappingDF['originalArtistID'] = newUserArtistDF.drop_duplicates(subset=['realArtistID'])['realArtistID']\n",
    "artistMappingDF['incrementalArtistID']=pd.factorize(artistMappingDF.originalArtistID)[0].astype(np.uint16)\n",
    "artistMappingDF[:15]"
   ]
  },
  {
   "cell_type": "code",
   "execution_count": null,
   "metadata": {},
   "outputs": [],
   "source": []
  },
  {
   "cell_type": "markdown",
   "metadata": {
    "slideshow": {
     "slide_type": "slide"
    }
   },
   "source": [
    "#### Question 6.2 \n",
    "\n",
    "<div class=\"alert alert-info\">\n",
    "Create a table with incremental ID for users and print the first 15 entries.\n",
    "</div>"
   ]
  },
  {
   "cell_type": "code",
   "execution_count": 22,
   "metadata": {
    "slideshow": {
     "slide_type": "subslide"
    }
   },
   "outputs": [
    {
     "data": {
      "text/html": [
       "<div>\n",
       "<style scoped>\n",
       "    .dataframe tbody tr th:only-of-type {\n",
       "        vertical-align: middle;\n",
       "    }\n",
       "\n",
       "    .dataframe tbody tr th {\n",
       "        vertical-align: top;\n",
       "    }\n",
       "\n",
       "    .dataframe thead th {\n",
       "        text-align: right;\n",
       "    }\n",
       "</style>\n",
       "<table border=\"1\" class=\"dataframe\">\n",
       "  <thead>\n",
       "    <tr style=\"text-align: right;\">\n",
       "      <th></th>\n",
       "      <th>originalUserID</th>\n",
       "      <th>incrementalUserID</th>\n",
       "    </tr>\n",
       "  </thead>\n",
       "  <tbody>\n",
       "    <tr>\n",
       "      <th>0</th>\n",
       "      <td>90</td>\n",
       "      <td>0</td>\n",
       "    </tr>\n",
       "    <tr>\n",
       "      <th>97</th>\n",
       "      <td>98</td>\n",
       "      <td>1</td>\n",
       "    </tr>\n",
       "    <tr>\n",
       "      <th>118</th>\n",
       "      <td>116</td>\n",
       "      <td>2</td>\n",
       "    </tr>\n",
       "    <tr>\n",
       "      <th>134</th>\n",
       "      <td>120</td>\n",
       "      <td>3</td>\n",
       "    </tr>\n",
       "    <tr>\n",
       "      <th>153</th>\n",
       "      <td>128</td>\n",
       "      <td>4</td>\n",
       "    </tr>\n",
       "    <tr>\n",
       "      <th>159</th>\n",
       "      <td>139</td>\n",
       "      <td>5</td>\n",
       "    </tr>\n",
       "    <tr>\n",
       "      <th>168</th>\n",
       "      <td>277</td>\n",
       "      <td>6</td>\n",
       "    </tr>\n",
       "    <tr>\n",
       "      <th>749</th>\n",
       "      <td>321</td>\n",
       "      <td>7</td>\n",
       "    </tr>\n",
       "    <tr>\n",
       "      <th>1047</th>\n",
       "      <td>340</td>\n",
       "      <td>8</td>\n",
       "    </tr>\n",
       "    <tr>\n",
       "      <th>1216</th>\n",
       "      <td>350</td>\n",
       "      <td>9</td>\n",
       "    </tr>\n",
       "    <tr>\n",
       "      <th>1369</th>\n",
       "      <td>384</td>\n",
       "      <td>10</td>\n",
       "    </tr>\n",
       "    <tr>\n",
       "      <th>1395</th>\n",
       "      <td>519</td>\n",
       "      <td>11</td>\n",
       "    </tr>\n",
       "    <tr>\n",
       "      <th>1800</th>\n",
       "      <td>521</td>\n",
       "      <td>12</td>\n",
       "    </tr>\n",
       "    <tr>\n",
       "      <th>2272</th>\n",
       "      <td>536</td>\n",
       "      <td>13</td>\n",
       "    </tr>\n",
       "    <tr>\n",
       "      <th>3259</th>\n",
       "      <td>581</td>\n",
       "      <td>14</td>\n",
       "    </tr>\n",
       "  </tbody>\n",
       "</table>\n",
       "</div>"
      ],
      "text/plain": [
       "      originalUserID  incrementalUserID\n",
       "0                 90                  0\n",
       "97                98                  1\n",
       "118              116                  2\n",
       "134              120                  3\n",
       "153              128                  4\n",
       "159              139                  5\n",
       "168              277                  6\n",
       "749              321                  7\n",
       "1047             340                  8\n",
       "1216             350                  9\n",
       "1369             384                 10\n",
       "1395             519                 11\n",
       "1800             521                 12\n",
       "2272             536                 13\n",
       "3259             581                 14"
      ]
     },
     "execution_count": 22,
     "metadata": {},
     "output_type": "execute_result"
    }
   ],
   "source": [
    "\n",
    "userMappingDF = pd.DataFrame()\n",
    "userMappingDF['originalUserID'] = newUserArtistDF.sort_values('userID').drop_duplicates(subset=['userID'])['userID']\n",
    "userMappingDF['incrementalUserID']=pd.factorize(userMappingDF.originalUserID)[0].astype(np.uint16)\n",
    "userMappingDF[:15]"
   ]
  },
  {
   "cell_type": "markdown",
   "metadata": {
    "slideshow": {
     "slide_type": "slide"
    }
   },
   "source": [
    "#### Question 6.3 \n",
    "\n",
    "<div class=\"alert alert-info\">\n",
    "Starting from the clean dataset that we already have, find a way to replace the original IDs with the new ones. Print the first 15 entries in this new table.\n",
    "</div>"
   ]
  },
  {
   "cell_type": "code",
   "execution_count": 23,
   "metadata": {
    "slideshow": {
     "slide_type": "subslide"
    }
   },
   "outputs": [
    {
     "name": "stdout",
     "output_type": "stream",
     "text": [
      "    playCount  incrementalArtistID  incrementalUserID\n",
      "0           1                    0                  0\n",
      "1           4                    1                  0\n",
      "2           1                    2                  0\n",
      "3           1                    3                  0\n",
      "4          16                    4                  0\n",
      "5           1                    5                  0\n",
      "6           1                    6                  0\n",
      "7           1                    7                  0\n",
      "8           1                    8                  0\n",
      "9           7                    9                  0\n",
      "10         72                   10                  0\n",
      "11          5                   11                  0\n",
      "12         67                   12                  0\n",
      "13          1                   13                  0\n",
      "14         87                   14                  0\n"
     ]
    }
   ],
   "source": [
    "\n",
    "rescaledUserArtistDF = pd.merge(newUserArtistDF, artistMappingDF, \n",
    "                                left_on='realArtistID', \n",
    "                                right_on='originalArtistID').drop(columns=['realArtistID','originalArtistID'], axis=1)\n",
    "\n",
    "rescaledUserArtistDF = pd.merge(rescaledUserArtistDF, userMappingDF, \n",
    "                                left_on='userID',\n",
    "                                right_on='originalUserID').drop(columns=['userID','originalUserID'], axis=1)\n",
    "\n",
    "print(rescaledUserArtistDF[:15])"
   ]
  },
  {
   "cell_type": "markdown",
   "metadata": {},
   "source": [
    "Now, we don't need no more `userArtistDF` and `newUserArtistDF`. We can delete them and free some memory"
   ]
  },
  {
   "cell_type": "code",
   "execution_count": 24,
   "metadata": {},
   "outputs": [],
   "source": [
    "del userArtistDF\n",
    "del newUserArtistDF"
   ]
  },
  {
   "cell_type": "markdown",
   "metadata": {
    "slideshow": {
     "slide_type": "slide"
    }
   },
   "source": [
    "## 3.4 Training our statistical model\n",
    "To train a model using ALS, we must use a sparse matrix as an input. Implicit uses the class sparse matrix to support the construction of a distributed preference matrix."
   ]
  },
  {
   "cell_type": "markdown",
   "metadata": {},
   "source": [
    "### Question 7\n",
    "\n",
    "The implicit library expects data as a item-user sparse matrix. Now we create two matricies, one for fitting the model (item-user) and one for recommendations (the transpose of item-user -- user-item)."
   ]
  },
  {
   "cell_type": "code",
   "execution_count": 25,
   "metadata": {
    "collapsed": false,
    "slideshow": {
     "slide_type": "fragment"
    }
   },
   "outputs": [],
   "source": [
    "import scipy.sparse as sparse\n",
    "import implicit\n",
    "\n",
    "def to_sparse(userArtistDF):\n",
    "    playCount = userArtistDF['playCount'].astype(float)\n",
    "    artistID = userArtistDF['incrementalArtistID']\n",
    "    userID = userArtistDF['incrementalUserID']\n",
    "    sparse_item_user = sparse.csr_matrix((playCount, (artistID, userID)))\n",
    "\n",
    "    return sparse_item_user\n",
    "\n",
    "sparse_item_user = to_sparse(rescaledUserArtistDF)\n",
    "sparse_user_item = sparse_item_user.T"
   ]
  },
  {
   "cell_type": "markdown",
   "metadata": {
    "slideshow": {
     "slide_type": "slide"
    }
   },
   "source": [
    "#### Question 7.1\n",
    "<div class=\"alert alert-info\">\n",
    "Train a model trained by using `implicit.als.AlternatingLeastSquares()`.\n",
    "</div>\n",
    "\n",
    "Read **carefully** the documentation of this class."
   ]
  },
  {
   "cell_type": "markdown",
   "metadata": {},
   "source": [
    "We can also use some additional parameters to adjust the quality of the model. For now, let's set \n",
    "\n",
    "- `factors = 10`\n",
    "- `iterations = 5`\n",
    "- `regularization = 0.01`\n",
    "- `alpha = 1.0`\n",
    "\n",
    "to build the model."
   ]
  },
  {
   "cell_type": "code",
   "execution_count": 26,
   "metadata": {
    "slideshow": {
     "slide_type": "subslide"
    }
   },
   "outputs": [
    {
     "name": "stderr",
     "output_type": "stream",
     "text": [
      "100%|██████████| 5.0/5 [00:17<00:00,  3.38s/it]\n"
     ]
    }
   ],
   "source": [
    "factors = 10\n",
    "iterations = 5\n",
    "regularization = 0.01\n",
    "alpha = 1.0\n",
    "\n",
    "# Calculate the confidence matrix by multiplying the item/user matrix by our alpha value.\n",
    "data_conf = (sparse_item_user * alpha).astype('double')\n",
    "\n",
    "# Create the model\n",
    "model = implicit.als.AlternatingLeastSquares(factors=factors,iterations=iterations,\n",
    "                                             regularization=regularization)\n",
    "\n",
    "#Fit the model\n",
    "model.fit(data_conf)"
   ]
  },
  {
   "cell_type": "markdown",
   "metadata": {
    "slideshow": {
     "slide_type": "slide"
    }
   },
   "source": [
    "#### Question 7.5\n",
    "<div class=\"alert alert-info\">\n",
    "Print the user features for the first user\n",
    "</div>"
   ]
  },
  {
   "cell_type": "code",
   "execution_count": 27,
   "metadata": {
    "slideshow": {
     "slide_type": "subslide"
    }
   },
   "outputs": [
    {
     "data": {
      "text/plain": [
       "array([ 7.051861 , -4.7927146,  2.9422393,  2.569782 , -5.918178 ,\n",
       "       11.355635 ,  2.758113 ,  3.1547735,  9.109329 , -3.0685055],\n",
       "      dtype=float32)"
      ]
     },
     "execution_count": 27,
     "metadata": {},
     "output_type": "execute_result"
    }
   ],
   "source": [
    "model.user_factors[0]"
   ]
  },
  {
   "cell_type": "markdown",
   "metadata": {
    "slideshow": {
     "slide_type": "slide"
    }
   },
   "source": [
    "### Question 8\n",
    "<div class=\"alert alert-info\">\n",
    "Show the top-5 artist names recommendated for a given user, for example: `2093760` (please, try also with different users!).\n",
    "</div>\n",
    "\n",
    "**HINT**: The recommendations can be given by function `recommend()`. These recommendations are only artist ids. You have to map them to artist names by using data in `artist_data.txt`. Remember that we have transformed our IDs, so what you need to do is `userID -> incrementalUserID -> recommend() -> incrementalArtistID -> artistID -> name`"
   ]
  },
  {
   "cell_type": "code",
   "execution_count": 28,
   "metadata": {
    "slideshow": {
     "slide_type": "subslide"
    }
   },
   "outputs": [
    {
     "name": "stdout",
     "output_type": "stream",
     "text": [
      "user :0\n",
      "\n",
      "Nine Inch Nails 0.92041147\n",
      "U2 0.92034715\n",
      "Nirvana 0.9189492\n",
      "Green Day 0.91739047\n",
      "Pink Floyd 0.91653806\n",
      "Metallica 0.9164388\n",
      "Red Hot Chili Peppers 0.9155705\n",
      "The Beatles 0.9124036\n",
      "[unknown] 0.9117014\n",
      "System of a Down 0.9092667\n",
      "next user\n",
      "\n",
      "user :1\n",
      "\n",
      "The Bravery 1.1932964\n",
      "Idlewild 1.1765397\n",
      "The Futureheads 1.1614197\n",
      "Kaiser Chiefs 1.1584032\n",
      "Razorlight 1.1455708\n",
      "Bloc Party 1.1212764\n",
      "Hot Hot Heat 1.1167805\n",
      "Kasabian 1.1124812\n",
      "The Libertines 1.10463\n",
      "The Faint 1.0942898\n",
      "next user\n",
      "\n",
      "user :2\n",
      "\n",
      "The Beatles 0.58433455\n",
      "U2 0.5812958\n",
      "Pink Floyd 0.5744542\n",
      "Radiohead 0.57393146\n",
      "Coldplay 0.5715637\n",
      "Led Zeppelin 0.5685681\n",
      "Nirvana 0.56442356\n",
      "Red Hot Chili Peppers 0.56034243\n",
      "Green Day 0.5596311\n",
      "Nine Inch Nails 0.5594656\n",
      "next user\n",
      "\n",
      "user :3\n",
      "\n",
      "Green Day 1.0329866\n",
      "Eminem 1.0291177\n",
      "blink-182 1.0203277\n",
      "Linkin Park 1.0090903\n",
      "50 Cent 1.0044467\n",
      "The Killers 0.9958203\n",
      "Incubus 0.99551654\n",
      "Jimmy Eat World 0.99274665\n",
      "Coldplay 0.98674035\n",
      "Red Hot Chili Peppers 0.98662066\n",
      "next user\n",
      "\n",
      "user :4\n",
      "\n",
      "Green Day 1.0831577\n",
      "Red Hot Chili Peppers 1.053642\n",
      "Metallica 1.052142\n",
      "Nirvana 1.0499933\n",
      "Linkin Park 1.047988\n",
      "Coldplay 1.0458255\n",
      "System of a Down 1.0431311\n",
      "Muse 1.04252\n",
      "The Beatles 1.0424814\n",
      "U2 1.0416303\n",
      "next user\n",
      "\n",
      "user :5\n",
      "\n",
      "Green Day 0.9161361\n",
      "The Beatles 0.91482615\n",
      "Coldplay 0.91153836\n",
      "Radiohead 0.9096967\n",
      "Nirvana 0.90019166\n",
      "Modest Mouse 0.8965579\n",
      "U2 0.8957708\n",
      "Weezer 0.8953484\n",
      "The Killers 0.89490557\n",
      "Red Hot Chili Peppers 0.8921271\n",
      "next user\n",
      "\n",
      "user :6\n",
      "\n",
      "Gus Gus 0.8733963\n",
      "Amon Tobin 0.8453183\n",
      "Autechre 0.8402079\n",
      "Thievery Corporation 0.8353494\n",
      "Boards of Canada 0.8343094\n",
      "Shpongle 0.8338776\n",
      "Aphex Twin 0.827477\n",
      "Massive Attack 0.8207119\n",
      "Björk 0.8098595\n",
      "The Cinematic Orchestra 0.80513245\n",
      "next user\n",
      "\n",
      "user :7\n",
      "\n",
      "Black Flag 1.295735\n",
      "Dead Kennedys 1.2868304\n",
      "Minor Threat 1.278117\n",
      "Social Distortion 1.2627344\n",
      "Misfits 1.2360241\n",
      "Descendents 1.2245438\n",
      "Hüsker Dü 1.2189003\n",
      "Propagandhi 1.2015187\n",
      "Against Me! 1.197442\n",
      "Fugazi 1.1951263\n",
      "next user\n",
      "\n",
      "user :8\n",
      "\n",
      "Strung Out 0.55167156\n",
      "The Bouncing Souls 0.5294319\n",
      "No Use for a Name 0.5282468\n",
      "Guttermouth 0.51419985\n",
      "The Suicide Machines 0.51412404\n",
      "Leftöver Crack 0.51370347\n",
      "Strike Anywhere 0.51296294\n",
      "Lagwagon 0.51112354\n",
      "RX Bandits 0.5064959\n",
      "Tiger Army 0.50063753\n",
      "next user\n",
      "\n",
      "user :9\n",
      "\n",
      "Radiohead 0.67272127\n",
      "Beastie Boys 0.6667668\n",
      "[unknown] 0.66181433\n",
      "Coldplay 0.6573734\n",
      "Green Day 0.65693486\n",
      "The Beatles 0.6565038\n",
      "Nirvana 0.65356684\n",
      "Eminem 0.6534447\n",
      "Modest Mouse 0.64860237\n",
      "Outkast 0.64790297\n",
      "next user\n",
      "\n",
      "user :10\n",
      "\n",
      "Ministry 1.2772584\n",
      "Juno Reactor 1.269588\n",
      "Skinny Puppy 1.2528303\n",
      "Orbital 1.2235725\n",
      "KMFDM 1.2233815\n",
      "Monster Magnet 1.2222756\n",
      "Therapy? 1.216232\n",
      "Infected Mushroom 1.2092797\n",
      "Front 242 1.2086112\n",
      "Front Line Assembly 1.2041456\n",
      "next user\n",
      "\n",
      "user :11\n",
      "\n",
      "At the Drive-In 1.0373744\n",
      "The Blood Brothers 1.0310915\n",
      "The Mars Volta 1.0283614\n",
      "The Dillinger Escape Plan 1.0124271\n",
      "Dredg 1.0000329\n",
      "Sparta 0.98636615\n",
      "Death Cab for Cutie 0.9842743\n",
      "Bright Eyes 0.9840487\n",
      "Isis 0.9816386\n",
      "Converge 0.9760125\n",
      "next user\n",
      "\n",
      "user :12\n",
      "\n",
      "Talking Heads 1.0987208\n",
      "Pavement 1.0986117\n",
      "Cat Power 1.0980054\n",
      "Belle and Sebastian 1.0971345\n",
      "The Magnetic Fields 1.0953635\n",
      "The Velvet Underground 1.0934548\n",
      "Sonic Youth 1.0920184\n",
      "My Bloody Valentine 1.0914905\n",
      "The Flaming Lips 1.0913725\n",
      "Yo La Tengo 1.0846852\n",
      "next user\n",
      "\n",
      "user :13\n",
      "\n",
      "Kraftwerk 1.1149255\n",
      "The Sisters of Mercy 1.0928599\n",
      "2 Many DJ's 1.0903304\n",
      "Depeche Mode 1.0709735\n",
      "Primal Scream 1.0605174\n",
      "The Prodigy 1.0602707\n",
      "The Chemical Brothers 1.0438519\n",
      "Electric Six 1.0422448\n",
      "Madness 1.0406097\n",
      "Kent 1.0387281\n",
      "next user\n",
      "\n",
      "user :14\n",
      "\n",
      "Stevie Ray Vaughan 1.605189\n",
      "The Allman Brothers Band 1.5995693\n",
      "Béla Fleck and the Flecktones 1.5956496\n",
      "Orishas 1.5771545\n",
      "Buckethead 1.5213147\n",
      "Muddy Waters 1.5054528\n",
      "B.B. King 1.4845551\n",
      "Art Tatum 1.4774343\n",
      "Charlie Parker 1.4735674\n",
      "Céline Dion 1.4731138\n",
      "next user\n",
      "\n"
     ]
    }
   ],
   "source": [
    "# Retrieve the incrementalUserID from a userID\n",
    "def get_incrementalUserID(userID):\n",
    "    return userMappingDF.loc[userMappingDF['userID'] == userID].iloc[0]['incrementalUserID']\n",
    "\n",
    "# Retrieve the original userID from an incrementalUserID\n",
    "def get_userID(incrementalUserID):\n",
    "    return userMappingDF.loc[userMappingDF['incrementalUserID'] == incrementalUserID].iloc[0]['originalUserID']\n",
    "\n",
    "# Retrieve the incrementalArtistID from an artistID\n",
    "def get_incrementalArtistID(artistID):\n",
    "    return artistMappingDF.loc[artistMappingDF['artistID'] == artistID].iloc[0]['incrementalArtistID']\n",
    "\n",
    "# Retrieve the original artistID from an incrementalArtistID\n",
    "def get_artistID(incrementalArtistID):\n",
    "    return artistMappingDF.loc[artistMappingDF['incrementalArtistID'] == incrementalArtistID].iloc[0]['originalArtistID']\n",
    "\n",
    "# Retrive the artist name\n",
    "def get_artist_name(artistID):\n",
    "    return artistDF.loc[artistDF['artistID'] == artistID].iloc[0]['name']\n",
    "\n",
    "list_users=[i for i in range(15)]\n",
    "for user in list_users :\n",
    "    # Retrive the recommendations\n",
    "    recommendations = model.recommend(user,sparse_user_item)\n",
    "    # Print the recommended artists\n",
    "    print('user :'+str(user)+'\\n')\n",
    "    for (artist,score) in recommendations :\n",
    "        artistName=get_artist_name(get_artistID(artist))\n",
    "        print (artistName,score)\n",
    "    print('next user'+'\\n')"
   ]
  },
  {
   "cell_type": "markdown",
   "metadata": {
    "slideshow": {
     "slide_type": "slide"
    }
   },
   "source": [
    "## 3.5 Evaluating Recommendation Quality \n",
    "\n",
    "In this section, we study how to evaluate the quality of our model. It's hard to say how good the recommendations are.\n",
    "One of serveral methods approach to evaluate  a recommender based on its ability to rank good items (artists) high in a list of recommendations. The problem is how to define \"good artists\". Currently, by training all data, \"good artists\" is defined as \"artists the user has listened to\", and the recommender system has already received all of this information as input. It could trivially return the users previously-listened artists as top recommendations and score perfectly. Indeed, this is not useful, because the recommender's is used to recommend artists that the user has **never** listened to. \n",
    "\n",
    "To overcome that problem, we can hide the some of the artist play data and only use the rest to train model. Then, this held-out data can be interpreted as a collection of \"good\" recommendations for each user. The recommender is asked to rank all items in the model, and the rank of the held-out artists are examined. Ideally the recommender places all of them at or near the top of the list.\n",
    "\n",
    "The recommender's score can then be computed by comparing all held-out artists' ranks to the rest.  The fraction of pairs where the held-out artist is ranked higher is its score. 1.0 is perfect, 0.0 is the worst possible score, and 0.5 is the expected value achieved from randomly ranking artists. \n",
    "\n",
    "AUC(Area Under the Curve) can be used as a metric to evaluate model. It is also viewed as the probability that a randomly-chosen \"good\" artist ranks above a randomly-chosen \"bad\" artist.\n",
    "\n",
    "Next, we split the training data into 2 parts: `trainData` and `cvData` with ratio 0.9:0.1 respectively, where `trainData` is the dataset that will be used to train model. Then we write a function to calculate AUC to evaluate the quality of our model.\n"
   ]
  },
  {
   "cell_type": "markdown",
   "metadata": {},
   "source": [
    "### Question 9\n",
    "\n",
    "#### Question 9.1\n",
    "<div class=\"alert alert-info\">\n",
    "Split the data into `trainData` and `cvData` with ratio 0.9:0.1 and use the first part to train a statistic model with:\n",
    "<ul>\n",
    "<li>`rank`=10</li>\n",
    "<li>`iterations`=5</li>\n",
    "<li>`lambda_`=0.01</li>\n",
    "<li>`alpha`=1.0</li>\n",
    "</ul>\n",
    "</div>\n",
    "\n",
    "***Hint***: have a look to `train_test_split()` in `sklearn.model_selection`"
   ]
  },
  {
   "cell_type": "code",
   "execution_count": 29,
   "metadata": {
    "slideshow": {
     "slide_type": "subslide"
    }
   },
   "outputs": [
    {
     "name": "stderr",
     "output_type": "stream",
     "text": [
      "100%|██████████| 5.0/5 [00:05<00:00,  1.07s/it]\n"
     ]
    }
   ],
   "source": [
    "from sklearn.model_selection import train_test_split\n",
    "\n",
    "# Create train/test split\n",
    "trainUserArtistDF, testUserArtistDF = train_test_split(rescaledUserArtistDF, test_size=0.9)\n",
    "\n",
    "# Transform to sparse matrix\n",
    "train_sparse_item_user = to_sparse(trainUserArtistDF)\n",
    "train_sparse_user_item = train_sparse_item_user.T\n",
    "\n",
    "# Compute the confidence matrix\n",
    "data_conf = (train_sparse_item_user * alpha).astype('double')\n",
    "\n",
    "# Create the model\n",
    "model = implicit.als.AlternatingLeastSquares(factors=10,iterations=5,\n",
    "                                             regularization=0.01)\n",
    "\n",
    "# Train\n",
    "model.fit(data_conf)"
   ]
  },
  {
   "cell_type": "markdown",
   "metadata": {},
   "source": [
    "#### Area under the ROC curve: a function to compute it"
   ]
  },
  {
   "cell_type": "code",
   "execution_count": 30,
   "metadata": {
    "slideshow": {
     "slide_type": "slide"
    }
   },
   "outputs": [],
   "source": [
    "from multiprocessing import Pool\n",
    "import warnings\n",
    "from sklearn.metrics import roc_auc_score\n",
    "import random\n",
    "from tqdm import tqdm\n",
    "\n",
    "\n",
    "def findNumElementsSmallerThan(arr, x, start=0):\n",
    "        left = start\n",
    "        right = len(arr) -1\n",
    "        # if x is bigger than the biggest element in arr\n",
    "        if start > right or x > arr[right]:\n",
    "            return right + 1\n",
    "        mid = -1\n",
    "        while left <= right:\n",
    "            mid = (left + right) // 2\n",
    "            if arr[mid] < x:\n",
    "                left = mid + 1\n",
    "            elif arr[mid] > x:\n",
    "                right = mid - 1\n",
    "            else:\n",
    "                while mid-1 >= start and arr[mid-1] == x:\n",
    "                    mid -= 1\n",
    "                return mid\n",
    "        return mid if arr[mid] > x else mid + 1\n",
    "\n",
    "def _compute_auc(incremental_user_id):\n",
    "    positive_products = testUserArtistDF[testUserArtistDF['incrementalUserID'] == incremental_user_id]['incrementalArtistID'].values\n",
    "    positive_ranking = model.rank_items(incremental_user_id, \n",
    "                                        train_sparse_user_item, \n",
    "                                        positive_products)\n",
    "    positive_ranking = list(map(lambda x: x[1], positive_ranking))\n",
    "    if len(positive_products) <= 1: return \n",
    "        \n",
    "    train_data_user = trainUserArtistDF[trainUserArtistDF['incrementalUserID'] == incremental_user_id]['incrementalArtistID'].values\n",
    "    \n",
    "    if len(train_data_user) < 1: return\n",
    "    negative_products = np.random.choice(train_data_user, len(positive_products))  \n",
    "    if len(negative_products) <= 1: return\n",
    "        \n",
    "    if len(negative_products) != len(positive_products): return \n",
    "    \n",
    "    negative_ranking = model.rank_items(incremental_user_id, \n",
    "                                        train_sparse_user_item, \n",
    "                                        negative_products)\n",
    "    \n",
    "    negative_ranking = list(map(lambda x: x[1], negative_ranking))\n",
    "   \n",
    "    correct = 0\n",
    "    total = len(positive_ranking)*len(negative_ranking)\n",
    "\n",
    "    for positive in positive_ranking:\n",
    "        correct += findNumElementsSmallerThan(negative_ranking, positive)\n",
    "    return float(correct) / total\n",
    "\n",
    "def compute_auc(test_users_ratio=1, parallelism=4):  \n",
    "    \"\"\"\n",
    "        Computes the AUC of a train/test split\n",
    "        Note:\n",
    "            It assumes `trainUserArtistDF`, `testUserArtistDf` and `model` to be defined \n",
    "            globally\n",
    "        Arguments:\n",
    "            test_users_ratio (float): Ratio of users to be tested (0, 1]\n",
    "    \"\"\"\n",
    "    if test_users_ratio <=0 or test_users_ratio > 1:\n",
    "        warnings.warn('Parameter test_users_ratio has to be in (0, 1]. Setting test_users_ratio=1...')\n",
    "        test_users_ratio = 1\n",
    "    \n",
    "    pool = Pool(parallelism)\n",
    "    roc_auc = []\n",
    "    list_of_users = testUserArtistDF['incrementalUserID'].unique()[::int(1/test_users_ratio)]\n",
    "    for res in tqdm(pool.imap_unordered(_compute_auc, list_of_users, 64), total=len(list_of_users)):\n",
    "        roc_auc.append(res)\n",
    "    \n",
    "    pool.close()\n",
    "    pool.join()\n",
    "\n",
    "    return np.array(list(filter(None.__ne__, roc_auc)))"
   ]
  },
  {
   "cell_type": "markdown",
   "metadata": {},
   "source": [
    "####  Question 9.2\n",
    "<div class=\"alert alert-info\">\n",
    "Using `compute_auc()`, compute the AUC of the trained model.\n",
    "</div>\n",
    "\n",
    "***Note***: `compute_auc()` is computational expensive. To test if everything works, try to first compute the AUC for a small subset of users (10%) and than move to the entire set."
   ]
  },
  {
   "cell_type": "code",
   "execution_count": 31,
   "metadata": {
    "slideshow": {
     "slide_type": "subslide"
    }
   },
   "outputs": [
    {
     "name": "stderr",
     "output_type": "stream",
     "text": [
      "100%|██████████| 65536/65536 [08:01<00:00, 136.15it/s]"
     ]
    },
    {
     "name": "stdout",
     "output_type": "stream",
     "text": [
      "Average AUC = 0.9197\n"
     ]
    },
    {
     "name": "stderr",
     "output_type": "stream",
     "text": [
      "\n"
     ]
    }
   ],
   "source": [
    "roc_auc = compute_auc()\n",
    "print('Average AUC = %.4f' % roc_auc.mean())"
   ]
  },
  {
   "cell_type": "markdown",
   "metadata": {
    "slideshow": {
     "slide_type": "slide"
    }
   },
   "source": [
    "#### Question 9.3 \n",
    "\n",
    "The average AUC doesn't give the full picture here. Try to plot the distribution and the cumulative distribution of the AUC for all the users. Can you comment on these plots? "
   ]
  },
  {
   "cell_type": "code",
   "execution_count": 32,
   "metadata": {
    "slideshow": {
     "slide_type": "subslide"
    }
   },
   "outputs": [
    {
     "data": {
      "image/png": "[encoded data removed]",
      "text/plain": [
       "<Figure size 432x288 with 2 Axes>"
      ]
     },
     "metadata": {},
     "output_type": "display_data"
    }
   ],
   "source": [
    "fig, (ax0, ax1) = plt.subplots(2,1)\n",
    "\n",
    "# Plot distribution\n",
    "ax0.hist(roc_auc, bins='auto', density=True, color='blue')\n",
    "\n",
    "# Plot cumulative distribution\n",
    "ax1.hist(roc_auc, bins='auto', density=True, cumulative=True, color='red')\n",
    "\n",
    "# Plot a vertical line on the average (distribution plot)\n",
    "ax0.axvline(roc_auc.mean(), label='Average AUC = %.3f' % roc_auc.mean())\n",
    "\n",
    "# Plot some percentile on the cumulative distribution\n",
    "for i, quantile in enumerate([.05, 0.25, .5, .75, .95]):\n",
    "    ax1.axvline(np.percentile(roc_auc,quantile*100) ,label='%.0fth perc.' % (quantile*100))\n",
    "\n",
    "    \n",
    "ax0.set_title('Distribution of AUC for all the users')\n",
    "ax1.set_title('Cumulative distribution of AUC for all the users')\n",
    "    \n",
    "ax0.legend()\n",
    "ax1.legend()\n",
    "plt.show()"
   ]
  },
  {
   "cell_type": "markdown",
   "metadata": {
    "slideshow": {
     "slide_type": "slide"
    }
   },
   "source": [
    "## 3.6 Personalized recommendations with ALS\n",
    "\n",
    "In the previous section, we build our models with some given paramters without any knowledge about them. Actually, choosing the best parameters' values is very important. It can significantly affect the quality of models. Especially, with the current implementation of ALS in MLLIB, these parameters are not learned by the algorithm, and must be chosen by the caller. The following parameters should get consideration before training models:\n",
    "\n",
    "* `rank = 10`: the number of latent factors in the model, or equivalently, the number of columns $k$ in the user-feature and product-feature matrices. In non-trivial cases, this is also their rank. \n",
    "\n",
    "* `iterations = 5`: the number of iterations that the factorization runs. Instead of runing the algorithm until RMSE converged which actually takes very long time to finish with large datasets, we only let it run in a given number of iterations. More iterations take more time but may produce a better factorization.\n",
    "\n",
    "* `lambda_ = 0.01`: a standard overfitting parameter. Higher values resist overfitting, but values that are too high hurt the factorization's accuracy.\n",
    "\n",
    "*  `alpha = 1.0`: controls the relative weight of observed versus unobserved userproduct interactions in the factorization. \n",
    "\n",
    "Although all of them have impact on the models' quality, `iterations` is more of a constraint on resources used in the factorization. So, `rank`, `lambda_` and `alpha` can be considered hyperparameters to the model. \n",
    "We will try to find \"good\" values for them. Indeed, the values of hyperparameter are not necessarily optimal. Choosing good hyperparameter values is a common problem in machine learning. The most basic way to choose values is to simply try combinations of values and evaluate a metric for each of them, and choose the combination that produces the best value of the metric. \n"
   ]
  },
  {
   "cell_type": "markdown",
   "metadata": {
    "slideshow": {
     "slide_type": "slide"
    }
   },
   "source": [
    "### Question 10\n",
    "\n",
    "#### Question 10.1\n",
    "<div class=\"alert alert-info\">\n",
    "For simplicity, assume that we want to explore the following parameter space: $ rank \\in \\{10, 50\\}$, $lambda\\_ \\in \\{1.0, 0.0001\\}$ and $alpha \\in \\{1.0, 40.0\\}$.\n",
    "\n",
    "Find the best combination of them in terms of the highest AUC value.\n",
    "</div>\n",
    "\n",
    "***Hint***: have a look to `ParameterGrid()` in `sklearn.model_selection` "
   ]
  },
  {
   "cell_type": "code",
   "execution_count": null,
   "metadata": {
    "slideshow": {
     "slide_type": "subslide"
    }
   },
   "outputs": [
    {
     "name": "stderr",
     "output_type": "stream",
     "text": [
      "100%|██████████| 5.0/5 [00:05<00:00,  1.05s/it]\n",
      "100%|██████████| 65536/65536 [08:18<00:00, 131.46it/s]\n",
      "100%|██████████| 5.0/5 [00:05<00:00,  1.02s/it]\n",
      "100%|██████████| 65536/65536 [08:21<00:00, 130.76it/s]\n",
      "100%|██████████| 5.0/5 [00:16<00:00,  3.34s/it]\n",
      "100%|██████████| 65536/65536 [47:37<00:00, 22.94it/s] \n",
      "100%|██████████| 5.0/5 [00:16<00:00,  3.28s/it]\n",
      "100%|██████████| 65536/65536 [58:06<00:00, 18.80it/s] \n",
      "100%|██████████| 5.0/5 [00:08<00:00,  1.85s/it]\n",
      "100%|██████████| 65536/65536 [10:07<00:00, 107.87it/s]\n",
      "100%|██████████| 5.0/5 [00:09<00:00,  1.80s/it]\n",
      "100%|██████████| 65536/65536 [10:14<00:00, 106.64it/s]\n",
      "100%|██████████| 5.0/5 [00:31<00:00,  6.46s/it]\n",
      "100%|██████████| 65536/65536 [1:12:54<00:00, 14.98it/s] \n",
      "100%|██████████| 5.0/5 [00:31<00:00,  6.20s/it]\n",
      " 72%|███████▏  | 47361/65536 [1:02:30<13:34, 22.31it/s]"
     ]
    }
   ],
   "source": [
    "from sklearn.model_selection import ParameterGrid\n",
    "\n",
    "# Define the hyperparameters\n",
    "hyperparameters = {\n",
    "    'factors': [10, 50], \n",
    "    'regularization' : [0.0001, 1],\n",
    "    'alpha' : [1.0, 40.0]}\n",
    "\n",
    "# Compute all combinations\n",
    "parameter_grid = list(ParameterGrid(hyperparameters))\n",
    "\n",
    "# Just a table to save the results\n",
    "resultsDF = pd.DataFrame(columns=['factors', 'regularization', 'alpha', 'auc'])\n",
    "\n",
    "for parameter_combination in parameter_grid:    \n",
    "    model = implicit.als.AlternatingLeastSquares(parameter_combination['factors'], 5, parameter_combination['regularization'])\n",
    "\n",
    "    train_data_conf = (train_sparse_item_user * parameter_combination['alpha']).astype('double')\n",
    "\n",
    "    model.fit(train_data_conf)\n",
    "    \n",
    "    auc = compute_auc()\n",
    "    \n",
    "    parameter_combination['auc'] = auc.mean()\n",
    "    resultsDF = resultsDF.append(parameter_combination, ignore_index=True)\n",
    "    \n",
    "resultsDF.sort_values('auc',ascending=False)"
   ]
  },
  {
   "cell_type": "markdown",
   "metadata": {
    "slideshow": {
     "slide_type": "slide"
    }
   },
   "source": [
    "### Question 10.2\n",
    "\n",
    "Sometimes an exhaustive search in the hyperparameter space is a waste of time and resources.\n",
    "There are a lot of research questions open that deal with automating the end-to-end process of applying machine learning to real-world problems (e.g. **AutoML**).\n",
    "\n",
    "Random sampling in the hyperparameter space is a possible -- very simple but yet quite powerfull -- technique.\n",
    "\n",
    "Implement a simple parameter sampler and try a bunch of different configurations.\n",
    "\n",
    "***Hint***: have a look to `ParameterSampler()` in `sklearn.model_selection` "
   ]
  },
  {
   "cell_type": "code",
   "execution_count": null,
   "metadata": {
    "slideshow": {
     "slide_type": "subslide"
    }
   },
   "outputs": [],
   "source": [
    "import scipy.stats \n",
    "from sklearn.model_selection import ParameterSampler\n",
    "\n",
    "# Hyperparameters are now definded by probability densities\n",
    "hyperparameters = {\n",
    "    'factors': scipy.stats.randint(10, 50), \n",
    "    'regularization' : scipy.stats.uniform(0.0001, 1.), \n",
    "    'alpha' : scipy.stats.uniform(1., 40.)}\n",
    "\n",
    "# N_iter is the number of configurations to try\n",
    "N_iter = 10\n",
    "parameter_grid = list(ParameterSampler(hyperparameters))\n",
    "\n",
    "# You can either append the results to the previous table or create a new one\n",
    "# resultsDF = pd.DataFrame(columns=['factors', 'regularization', 'alpha', 'auc'])\n",
    "\n",
    "for parameter_combination in parameter_grid:    \n",
    "    model = implicit.als.AlternatingLeastSquares(parameter_combination['factors'],\n",
    "                                                 5, parameter_combination['regularization'])\n",
    "\n",
    "    train_data_conf = (train_sparse_item_user * parameter_combination['alpha']).astype('double')\n",
    "    model.fit(train_data_conf)\n",
    "    auc = compute_auc()\n",
    "    parameter_combination['auc'] = auc.mean()\n",
    "    resultsDF = resultsDF.append(parameter_combination, ignore_index=True)\n",
    "\n",
    "resultsDF.sort_values('auc',ascending=False)\n"
   ]
  },
  {
   "cell_type": "markdown",
   "metadata": {
    "slideshow": {
     "slide_type": "slide"
    }
   },
   "source": [
    "#### Question 10.2 \n",
    "<div class=\"alert alert-info\">\n",
    "Using \"optimal\" hyper-parameters in question 10.1, re-train the model and show top-5 artist names recommendated for user `2093760`.\n",
    "</div>"
   ]
  },
  {
   "cell_type": "code",
   "execution_count": null,
   "metadata": {
    "slideshow": {
     "slide_type": "subslide"
    }
   },
   "outputs": [],
   "source": [
    "parameter_combination = resultsDF.to_dict()[0]\n",
    "model = implicit.als.AlternatingLeastSquares(factors=parameter_combination['factors'],\n",
    "                                                 iterations=5,regularization=parameter_combination['regularization'])\n",
    "\n",
    "train_data_conf = (train_sparse_item_user * parameter_combination['alpha']).astype('double')\n",
    "model.fit(train_data_conf)\n",
    "\n",
    "user_id = 2093760\n",
    "# Print the recommended artists\n",
    "print(\"I recommend for user \"+user_id+\":\")\n",
    "for incremental_artist_id, score in model.recommend(user_id, sparse_user_item):\n",
    "    artistName=get_artist_name(get_artistID(incremental_artist_ID))\n",
    "    print (artistName,score)"
   ]
  },
  {
   "cell_type": "markdown",
   "metadata": {
    "slideshow": {
     "slide_type": "slide"
    }
   },
   "source": [
    "# Summary\n",
    "\n",
    "In this notebook, we introduce an algorithm to do matrix factorization and the way of using it to make recommendation. Further more, we studied how to build a large-scale recommender system using ALS algorithm and evaluate its quality. Finally, a simple approach to choose good parameters is mentioned."
   ]
  },
  {
   "cell_type": "markdown",
   "metadata": {},
   "source": [
    "# References\n",
    "\n",
    "- The example in section 2 is taken from [Recommender system](infolab.stanford.edu/~ullman/mmds/ch9.pdf)"
   ]
  },
  {
   "cell_type": "code",
   "execution_count": null,
   "metadata": {},
   "outputs": [],
   "source": []
  }
 ],
 "metadata": {
  "kernelspec": {
   "display_name": "Python 3",
   "language": "python",
   "name": "python3"
  },
  "language_info": {
   "codemirror_mode": {
    "name": "ipython",
    "version": 3
   },
   "file_extension": ".py",
   "mimetype": "text/x-python",
   "name": "python",
   "nbconvert_exporter": "python",
   "pygments_lexer": "ipython3",
   "version": "3.5.2"
  },
  "rise": {
   "scroll": true,
   "theme": "white",
   "transition": "zoom"
  }
 },
 "nbformat": 4,
 "nbformat_minor": 2
}
